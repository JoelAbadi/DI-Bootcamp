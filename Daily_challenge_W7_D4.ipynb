{
  "nbformat": 4,
  "nbformat_minor": 0,
  "metadata": {
    "colab": {
      "provenance": [],
      "authorship_tag": "ABX9TyPeiTtkWw600Ep3SMU/1hJf",
      "include_colab_link": true
    },
    "kernelspec": {
      "name": "python3",
      "display_name": "Python 3"
    },
    "language_info": {
      "name": "python"
    }
  },
  "cells": [
    {
      "cell_type": "markdown",
      "metadata": {
        "id": "view-in-github",
        "colab_type": "text"
      },
      "source": [
        "<a href=\"https://colab.research.google.com/github/JoelAbadi/DI-Bootcamp/blob/main/Daily_challenge_W7_D4.ipynb\" target=\"_parent\"><img src=\"https://colab.research.google.com/assets/colab-badge.svg\" alt=\"Open In Colab\"/></a>"
      ]
    },
    {
      "cell_type": "code",
      "execution_count": 1,
      "metadata": {
        "colab": {
          "base_uri": "https://localhost:8080/"
        },
        "id": "VK84guwU3vZ-",
        "outputId": "3ad85616-62e2-443c-93eb-46a0e923c375"
      },
      "outputs": [
        {
          "output_type": "stream",
          "name": "stdout",
          "text": [
            "Requirement already satisfied: openpyxl in /usr/local/lib/python3.11/dist-packages (3.1.5)\n",
            "Requirement already satisfied: et-xmlfile in /usr/local/lib/python3.11/dist-packages (from openpyxl) (2.0.0)\n"
          ]
        }
      ],
      "source": [
        "!pip install openpyxl\n"
      ]
    },
    {
      "cell_type": "code",
      "source": [
        "from openpyxl import Workbook\n",
        "from openpyxl.styles import Font, PatternFill\n",
        "\n",
        "# Step 1: Data structure\n",
        "data = {\n",
        "    \"Joe\": {\"math\": 65, \"science\": 78, \"english\": 98, \"gym\": 89},\n",
        "    \"Bill\": {\"math\": 55, \"science\": 72, \"english\": 87, \"gym\": 95},\n",
        "    \"Tim\": {\"math\": 100, \"science\": 45, \"english\": 75, \"gym\": 92},\n",
        "    \"Sally\": {\"math\": 30, \"science\": 25, \"english\": 45, \"gym\": 100},\n",
        "    \"Jane\": {\"math\": 100, \"science\": 100, \"english\": 100, \"gym\": 60}\n",
        "}\n",
        "\n",
        "# Step 2: Create workbook and sheet\n",
        "wb = Workbook()\n",
        "ws = wb.active\n",
        "ws.title = \"Grades\"\n",
        "\n",
        "# Step 3: Write headers\n",
        "headers = [\"Name\", \"Math\", \"Science\", \"English\", \"Gym\"]\n",
        "ws.append(headers)\n",
        "\n",
        "# Apply bold and color to header\n",
        "header_font = Font(bold=True, color=\"FFFFFF\")\n",
        "header_fill = PatternFill(start_color=\"4F81BD\", end_color=\"4F81BD\", fill_type=\"solid\")\n",
        "\n",
        "for col in range(1, len(headers) + 1):\n",
        "    cell = ws.cell(row=1, column=col)\n",
        "    cell.font = header_font\n",
        "    cell.fill = header_fill\n",
        "\n",
        "# Step 4: Write student data\n",
        "for name, grades in data.items():\n",
        "    ws.append([\n",
        "        name,\n",
        "        grades[\"math\"],\n",
        "        grades[\"science\"],\n",
        "        grades[\"english\"],\n",
        "        grades[\"gym\"]\n",
        "    ])\n",
        "\n",
        "# Step 5: Add average formulas for each subject\n",
        "row_count = len(data) + 2  # header + students + 1\n",
        "ws[f\"A{row_count}\"] = \"Average\"\n",
        "\n",
        "# Set formulas\n",
        "for col, subject in zip([\"B\", \"C\", \"D\", \"E\"], [\"math\", \"science\", \"english\", \"gym\"]):\n",
        "    ws[f\"{col}{row_count}\"] = f\"=AVERAGE({col}2:{col}{row_count - 1})\"\n",
        "\n",
        "# Step 6: Save the workbook\n",
        "file_name = \"student_grades.xlsx\"\n",
        "wb.save(file_name)\n"
      ],
      "metadata": {
        "id": "C_6lRiv04Fpz"
      },
      "execution_count": 2,
      "outputs": []
    },
    {
      "cell_type": "code",
      "source": [
        "from google.colab import files\n",
        "files.download(\"student_grades.xlsx\")\n"
      ],
      "metadata": {
        "colab": {
          "base_uri": "https://localhost:8080/",
          "height": 17
        },
        "id": "05RWmoAr4Lmy",
        "outputId": "21c3a1cd-acf8-4767-9f45-2672b187da5d"
      },
      "execution_count": 3,
      "outputs": [
        {
          "output_type": "display_data",
          "data": {
            "text/plain": [
              "<IPython.core.display.Javascript object>"
            ],
            "application/javascript": [
              "\n",
              "    async function download(id, filename, size) {\n",
              "      if (!google.colab.kernel.accessAllowed) {\n",
              "        return;\n",
              "      }\n",
              "      const div = document.createElement('div');\n",
              "      const label = document.createElement('label');\n",
              "      label.textContent = `Downloading \"${filename}\": `;\n",
              "      div.appendChild(label);\n",
              "      const progress = document.createElement('progress');\n",
              "      progress.max = size;\n",
              "      div.appendChild(progress);\n",
              "      document.body.appendChild(div);\n",
              "\n",
              "      const buffers = [];\n",
              "      let downloaded = 0;\n",
              "\n",
              "      const channel = await google.colab.kernel.comms.open(id);\n",
              "      // Send a message to notify the kernel that we're ready.\n",
              "      channel.send({})\n",
              "\n",
              "      for await (const message of channel.messages) {\n",
              "        // Send a message to notify the kernel that we're ready.\n",
              "        channel.send({})\n",
              "        if (message.buffers) {\n",
              "          for (const buffer of message.buffers) {\n",
              "            buffers.push(buffer);\n",
              "            downloaded += buffer.byteLength;\n",
              "            progress.value = downloaded;\n",
              "          }\n",
              "        }\n",
              "      }\n",
              "      const blob = new Blob(buffers, {type: 'application/binary'});\n",
              "      const a = document.createElement('a');\n",
              "      a.href = window.URL.createObjectURL(blob);\n",
              "      a.download = filename;\n",
              "      div.appendChild(a);\n",
              "      a.click();\n",
              "      div.remove();\n",
              "    }\n",
              "  "
            ]
          },
          "metadata": {}
        },
        {
          "output_type": "display_data",
          "data": {
            "text/plain": [
              "<IPython.core.display.Javascript object>"
            ],
            "application/javascript": [
              "download(\"download_84fe8b71-08fb-4c18-8c15-92b9357ca398\", \"student_grades.xlsx\", 5152)"
            ]
          },
          "metadata": {}
        }
      ]
    }
  ]
}