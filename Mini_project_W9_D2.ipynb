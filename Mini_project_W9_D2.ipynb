{
  "metadata": {
    "kernelspec": {
      "language": "python",
      "display_name": "Python 3",
      "name": "python3"
    },
    "language_info": {
      "pygments_lexer": "ipython3",
      "nbconvert_exporter": "python",
      "version": "3.6.4",
      "file_extension": ".py",
      "codemirror_mode": {
        "name": "ipython",
        "version": 3
      },
      "name": "python",
      "mimetype": "text/x-python"
    },
    "kaggle": {
      "accelerator": "none",
      "dataSources": [
        {
          "sourceId": 1643659,
          "sourceType": "datasetVersion",
          "datasetId": 971923
        }
      ],
      "dockerImageVersionId": 30028,
      "isInternetEnabled": false,
      "language": "python",
      "sourceType": "notebook",
      "isGpuEnabled": false
    },
    "colab": {
      "provenance": [],
      "include_colab_link": true
    }
  },
  "nbformat_minor": 0,
  "nbformat": 4,
  "cells": [
    {
      "cell_type": "markdown",
      "metadata": {
        "id": "view-in-github",
        "colab_type": "text"
      },
      "source": [
        "<a href=\"https://colab.research.google.com/github/JoelAbadi/DI-Bootcamp/blob/main/Mini_project_W9_D2.ipynb\" target=\"_parent\"><img src=\"https://colab.research.google.com/assets/colab-badge.svg\" alt=\"Open In Colab\"/></a>"
      ]
    },
    {
      "cell_type": "markdown",
      "source": [
        "# Data Science Analyze and Present A/B Test Results\n",
        "\n",
        "X company recently introduced a new bidding type, “average bidding”, as an alternative to its exisiting bidding\n",
        "type, called “maximum bidding”. One of our clients, X.com, has decided to test this new feature\n",
        "and wants to conduct an A/B test to understand if average bidding brings more conversions than maximum\n",
        "bidding.\n",
        "\n",
        "In this A/B test, X.com randomly splits its audience into two equally sized groups, e.g. the test\n",
        "and the control group. A X company ad campaign with “maximum bidding” is served to “control group” and\n",
        "another campaign with “average bidding” is served to the “test group”.\n",
        "\n",
        "The A/B test has run for 1 month and X.com now expects you to analyze and present the results\n",
        "of this A/B test.\n",
        "\n",
        "\n",
        "\n",
        "##### You should answer the following questions in this notebook\n",
        "\n",
        "1. How would you define the hypothesis of this A/B test?\n",
        "2. Can we conclude statistically significant results?\n",
        "3. Which statistical test did you use, and why?\n",
        "4. Based on your answer to Question 2, what would be your recommendation to client?\n",
        "\n",
        "\n",
        "##### Hints:\n",
        "\n",
        "1. The customer journey for this campaign is:\n",
        "    1. User sees an ad (Impression)\n",
        "    2. User clicks on the website link on the ad (Website Click)\n",
        "    3. User makes a search on the website (Search)\n",
        "    4. User views details of a product (View Content)\n",
        "    5. User adds the product to the cart (Add to Cart)\n",
        "    6. User purchases the product (Purchase)\n",
        "2. Use visualizations to compare test and control group metrics, such as Website Click Through Rate, Cost per Action, and Conversion Rates in addition to Purchase numbers.\n",
        "3. If you see trends, anomalies or other patterns, discuss these in your notebool.\n",
        "4. You can make assumptions if needed.\n"
      ],
      "metadata": {
        "id": "nbo-72ZODKz2"
      }
    },
    {
      "cell_type": "markdown",
      "source": [
        "## 1. Import libraries"
      ],
      "metadata": {
        "id": "1nq1PmtlDKz5"
      }
    },
    {
      "cell_type": "code",
      "source": [
        "import pandas as pd\n",
        "import numpy as np\n",
        "import seaborn as sns\n",
        "import matplotlib.pyplot as plt\n",
        "from scipy import stats\n",
        "from scipy.stats import skewtest\n",
        "from scipy.stats import median_test\n",
        "from scipy.stats import shapiro\n",
        "import pylab\n",
        "from sklearn.neighbors import LocalOutlierFactor\n",
        "from scipy.stats import levene\n",
        "from statsmodels.stats.proportion import proportions_ztest\n",
        "from sklearn.impute import KNNImputer\n",
        "\n",
        "pd.set_option(\"display.max_columns\",None);\n",
        "pd.set_option(\"display.max_rows\",None);"
      ],
      "metadata": {
        "trusted": true,
        "id": "ZsKzhELSDKz5"
      },
      "execution_count": 1,
      "outputs": []
    },
    {
      "cell_type": "markdown",
      "source": [
        "## 2. Functions"
      ],
      "metadata": {
        "id": "AMaVKs7CDKz6"
      }
    },
    {
      "cell_type": "code",
      "source": [
        "def read_data() :\n",
        "    \"\"\"\n",
        "      Reads and loads control and test group data from an Excel file.\n",
        "    - **Control group** (Maximum Bidding): Existing campaign data.\n",
        "    - **Test group** (Average Bidding): Data from the new bidding strategy.\n",
        "    The function removes rows with NaN values that originated from notes in the Excel file for the control group.\n",
        "    \"\"\"\n",
        "    #Maximum Bidding(Existing)\n",
        "    control = pd.read_excel(\"../input/ab-test-dataset/AB_Case_Study.xlsx\", sheet_name=\"Control Group\")\n",
        "    #Average Bidding(New)\n",
        "    test = pd.read_excel(\"../input/ab-test-dataset/AB_Case_Study.xlsx\", sheet_name=\"Test Group\")\n",
        "\n",
        "    #In the control dataframe, the rows containing NaN values from the 'note' column (imported from Excel) were removed\n",
        "    control.drop(control.index[[30,31]], inplace = True)\n",
        "\n",
        "    return control, test\n",
        "\n",
        "def get_catvar(df) :\n",
        "    \"\"\"\n",
        "    Identifies and extracts categorical variables from a DataFrame.\n",
        "    - Returns the original DataFrame, a DataFrame of only categorical variables, and the names of the categorical columns.\n",
        "    \"\"\"\n",
        "    cat_col = [col for col in df.columns if ( (df[col].dtype == 'object') | (df[col].dtype == 'bool'))]\n",
        "    kat_df = pd.DataFrame(df[cat_col], index = df[cat_col].index)\n",
        "    return df, kat_df, cat_col\n",
        "\n",
        "def get_numvar(cat_col,df):\n",
        "    \"\"\"\n",
        "    Identifies and extracts numerical variables from a DataFrame, excluding those specified as categorical.\n",
        "    - Returns the original DataFrame, a DataFrame of only numerical variables, and the names of the numerical columns.\n",
        "    \"\"\"\n",
        "    num_col = [c for c in df.columns if c not in cat_col]\n",
        "    num_df = pd.DataFrame(df[num_col], index = df[num_col].index)\n",
        "    return df, num_df, num_col\n",
        "\n",
        "def fill_NaNValue(num_control) :\n",
        "    \"\"\"\n",
        "    Implements K-Nearest Neighbors Imputation to fill in missing values in numerical columns of the control group.\n",
        "    - Returns a DataFrame with missing values filled.\n",
        "    \"\"\"\n",
        "    cols = num_control.columns\n",
        "    imputer = KNNImputer(n_neighbors=8)\n",
        "    num_control = imputer.fit_transform(num_control)\n",
        "    num_control=pd.DataFrame(num_control,columns=cols)\n",
        "    return num_control\n",
        "\n",
        "def convert_datatype(control):\n",
        "    \"\"\"\n",
        "      Converts specified columns in the control group DataFrame to integer data types.\n",
        "    - This is important for ensuring data consistency and correctness in calculations.\n",
        "    \"\"\"\n",
        "    control = control.astype({'# of Impressions' : 'int64',\n",
        "                        'Reach': 'int64',\n",
        "                        '# of Website Clicks' : 'int64',\n",
        "                        '# of Searches': 'int64',\n",
        "                        '# of View Content': 'int64',\n",
        "                        '# of Add to Cart': 'int64',\n",
        "                        '# of Purchase' : 'int64'})\n",
        "    return control\n",
        "\n",
        "def outliers(control, test):\n",
        "    \"\"\"\n",
        "    Detects and handles outliers in the test group data using Local Outlier Factor (LOF).\n",
        "    - Prints scores of the detected outliers and modifies extreme outlier values based on a specified threshold.\n",
        "    \"\"\"\n",
        "    clf= LocalOutlierFactor(n_neighbors = 20, contamination = 0.1)\n",
        "    clf.fit_predict(test.iloc[:,2:])[0:10]\n",
        "\n",
        "    test_scores=clf.negative_outlier_factor_\n",
        "    print(\"Test Score: \" , np.sort(test_scores)[0:20])\n",
        "    sns.boxplot(test_scores);\n",
        "\n",
        "    threshold=np.sort(test_scores)[4]\n",
        "    print(\"Threshold score: \", threshold)\n",
        "\n",
        "    test.loc[test_scores < -1.50].index\n",
        "    test.loc[test_scores == threshold]\n",
        "\n",
        "    test.iloc[0,2:]=[2742.245945,79574,57168,3086,1263,1098,226,277]\n",
        "    sns.boxplot(x=\"variable\", y=\"value\", data=pd.melt(test.iloc[:,3:5]));\n",
        "    sns.boxplot(x=\"variable\", y=\"value\", data=pd.melt(test.iloc[:,5:6]));\n",
        "    sns.boxplot(x=\"variable\", y=\"value\", data=pd.melt(test.iloc[:,6:]));\n",
        "\n",
        "\n",
        "def feature_engineering(control, test):\n",
        "    \"\"\"\n",
        "    Creates new features for both control and test groups to aid in analysis:\n",
        "    - Website Click Through Rate: The percentage of clicks per number of impressions.\n",
        "    - Number of Action: Sum of various engagement metrics like impressions, clicks, etc.\n",
        "    - Cost per Action: The spend divided by the number of actions.\n",
        "    - Conversion Rate: The number of actions divided by the number of clicks, expressed as a percentage.\n",
        "    \"\"\"\n",
        "    control[\"Website Click Through Rate\"] = control[\"# of Website Clicks\"] / control[\"# of Impressions\"] * 100\n",
        "    test[\"Website Click Through Rate\"] = test[\"# of Website Clicks\"] / test[\"# of Impressions\"] * 100\n",
        "\n",
        "    control[\"Number of Action\"] = control[\"# of Impressions\"] + control[\"# of Website Clicks\"] + control[\"# of Searches\"] + control[\"# of View Content\"] + control[\"# of Add to Cart\"] + control[\"# of Purchase\"]\n",
        "    test[\"Number of Action\"] = test[\"# of Impressions\"] + test[\"# of Website Clicks\"] + test[\"# of Searches\"] + test[\"# of View Content\"] + test[\"# of Add to Cart\"] + test[\"# of Purchase\"]\n",
        "\n",
        "    control[\"Cost per Action\"] = control[\"Spend [USD]\"] / control[\"Number of Action\"]\n",
        "    test[\"Cost per Action\"] = test[\"Spend [USD]\"] / test[\"Number of Action\"]\n",
        "\n",
        "    control[\"Conversion Rate\"] = control[\"Number of Action\"] / control[\"# of Website Clicks\"] * 100\n",
        "    test[\"Conversion Rate\"] = test[\"Number of Action\"] / test[\"# of Website Clicks\"] * 100\n",
        "\n",
        "    return control, test\n",
        "\n",
        "def data_prepare_for_visualization(control,test):\n",
        "    \"\"\"\n",
        "    Prepares control and test group data for visualization by extracting specific metrics and labeling them for group comparison.\n",
        "    - Returns a consolidated DataFrame of both groups for visualization purposes.\n",
        "    \"\"\"\n",
        "    control_nop = pd.DataFrame(control[\"# of Purchase\"])\n",
        "    test_nop = pd.DataFrame(test[\"# of Purchase\"])\n",
        "\n",
        "    control_wctr= pd.DataFrame(control[\"Website Click Through Rate\"])\n",
        "    test_wctr= pd.DataFrame(test[\"Website Click Through Rate\"])\n",
        "\n",
        "    control_cpa= pd.DataFrame(control[\"Cost per Action\"])\n",
        "    test_cpa= pd.DataFrame(test[\"Cost per Action\"])\n",
        "\n",
        "    control_cr= pd.DataFrame(control[\"Conversion Rate\"])\n",
        "    test_cr= pd.DataFrame(test[\"Conversion Rate\"])\n",
        "\n",
        "    Group_A = pd.concat([control_nop, control_wctr, control_cpa, control_cr], axis = 1)\n",
        "    Group_A[\"Group\"] = \"A (MaximumBidding)\"\n",
        "\n",
        "    Group_B = pd.concat([test_nop, test_wctr, test_cpa, test_cr], axis = 1)\n",
        "    Group_B[\"Group\"] = \"B (AverageBidding)\"\n",
        "\n",
        "    #Tum veri\n",
        "    AB = pd.concat([Group_A, Group_B])\n",
        "    AB\n",
        "    return AB, control_nop, test_nop\n",
        "\n",
        "def data_prepare_for_hypothesis_testing(control_nop, test_nop):\n",
        "    \"\"\"\n",
        "    Prepares control and test group data for hypothesis testing by combining \"# of Purchase\" data into a single DataFrame.\n",
        "    - The resulting DataFrame is structured for direct comparison between groups.\n",
        "    \"\"\"\n",
        "    controlB = pd.concat([control_nop, test_nop], axis = 1)\n",
        "    controlB.columns = [\"A\",\"B\"]\n",
        "    return controlB\n",
        "\n",
        "def num_boxplot(fig, axarr, dimension, cols, hue):\n",
        "    \"\"\"\n",
        "    A helper function for plotting boxplots of numerical data, categorized by the experiment group.\n",
        "    - It iterates over specified dimensions and columns to generate boxplots for visual analysis.\n",
        "    \"\"\"\n",
        "    for i in dimension :\n",
        "        for j in dimension :\n",
        "            for c in cols :\n",
        "                sns.boxplot(y=c, x = hue, hue = hue, data = AB, ax=axarr[i][j])\n",
        "                cols.remove(c)\n",
        "                break\n",
        "\n",
        "def show_boxplot(nrows, ncols, boyut, cols, figsize):\n",
        "    \"\"\"\n",
        "    Generates boxplots for the specified columns and groups, utilizing `num_boxplot`.\n",
        "    - Allows specification of the number of rows and columns in the figure, and figure size.\n",
        "    \"\"\"\n",
        "    fig, axarr = plt.subplots(nrows, ncols, figsize=figsize)\n",
        "    num_boxplot(fig, axarr, boyut, cols, \"Group\")\n",
        "\n",
        "\n",
        "def checkReject(p_value, alpha = 0.05):\n",
        "    \"\"\"\n",
        "    Checks whether the p-value from hypothesis testing is significant enough to reject the null hypothesis, given an alpha level (default 0.05).\n",
        "    - Prints the outcome of the hypothesis test in the context of rejecting or not rejecting the null hypothesis.\n",
        "    \"\"\"\n",
        "    if p_value < alpha :\n",
        "        print(f'{p_value} < alpha(0.05) so >>> H0 REJECTED')\n",
        "\n",
        "    elif p_value > alpha :\n",
        "        print(f'{p_value} > alpha(0.05) so >>> H0 CAN\\'T BE REJECTED')"
      ],
      "metadata": {
        "trusted": true,
        "id": "bwPNKkN3DKz7"
      },
      "execution_count": 2,
      "outputs": []
    },
    {
      "cell_type": "markdown",
      "source": [
        "## 3. Data Preparation"
      ],
      "metadata": {
        "id": "eTVHnvKUDKz8"
      }
    },
    {
      "cell_type": "code",
      "source": [
        "# TODO : Import the dataset available here : https://www.kaggle.com/code/dillonmyrick/a-b-test-hypothesis-testing-for-e-commerce/input"
      ],
      "metadata": {
        "id": "gi6ROl-bpgDK"
      },
      "execution_count": null,
      "outputs": []
    },
    {
      "cell_type": "code",
      "source": [
        "# TODO: Upload ZIP file\n",
        "from google.colab import files\n",
        "uploaded = files.upload()\n",
        "\n"
      ],
      "metadata": {
        "colab": {
          "base_uri": "https://localhost:8080/",
          "height": 108
        },
        "id": "8PfRYr6kQ-_C",
        "outputId": "a1bc4d67-0852-4365-96be-0dd6a1cdee91"
      },
      "execution_count": 9,
      "outputs": [
        {
          "output_type": "display_data",
          "data": {
            "text/plain": [
              "<IPython.core.display.HTML object>"
            ],
            "text/html": [
              "\n",
              "     <input type=\"file\" id=\"files-de55a09b-b79e-46a2-8248-6e19f5862d8a\" name=\"files[]\" multiple disabled\n",
              "        style=\"border:none\" />\n",
              "     <output id=\"result-de55a09b-b79e-46a2-8248-6e19f5862d8a\">\n",
              "      Upload widget is only available when the cell has been executed in the\n",
              "      current browser session. Please rerun this cell to enable.\n",
              "      </output>\n",
              "      <script>// Copyright 2017 Google LLC\n",
              "//\n",
              "// Licensed under the Apache License, Version 2.0 (the \"License\");\n",
              "// you may not use this file except in compliance with the License.\n",
              "// You may obtain a copy of the License at\n",
              "//\n",
              "//      http://www.apache.org/licenses/LICENSE-2.0\n",
              "//\n",
              "// Unless required by applicable law or agreed to in writing, software\n",
              "// distributed under the License is distributed on an \"AS IS\" BASIS,\n",
              "// WITHOUT WARRANTIES OR CONDITIONS OF ANY KIND, either express or implied.\n",
              "// See the License for the specific language governing permissions and\n",
              "// limitations under the License.\n",
              "\n",
              "/**\n",
              " * @fileoverview Helpers for google.colab Python module.\n",
              " */\n",
              "(function(scope) {\n",
              "function span(text, styleAttributes = {}) {\n",
              "  const element = document.createElement('span');\n",
              "  element.textContent = text;\n",
              "  for (const key of Object.keys(styleAttributes)) {\n",
              "    element.style[key] = styleAttributes[key];\n",
              "  }\n",
              "  return element;\n",
              "}\n",
              "\n",
              "// Max number of bytes which will be uploaded at a time.\n",
              "const MAX_PAYLOAD_SIZE = 100 * 1024;\n",
              "\n",
              "function _uploadFiles(inputId, outputId) {\n",
              "  const steps = uploadFilesStep(inputId, outputId);\n",
              "  const outputElement = document.getElementById(outputId);\n",
              "  // Cache steps on the outputElement to make it available for the next call\n",
              "  // to uploadFilesContinue from Python.\n",
              "  outputElement.steps = steps;\n",
              "\n",
              "  return _uploadFilesContinue(outputId);\n",
              "}\n",
              "\n",
              "// This is roughly an async generator (not supported in the browser yet),\n",
              "// where there are multiple asynchronous steps and the Python side is going\n",
              "// to poll for completion of each step.\n",
              "// This uses a Promise to block the python side on completion of each step,\n",
              "// then passes the result of the previous step as the input to the next step.\n",
              "function _uploadFilesContinue(outputId) {\n",
              "  const outputElement = document.getElementById(outputId);\n",
              "  const steps = outputElement.steps;\n",
              "\n",
              "  const next = steps.next(outputElement.lastPromiseValue);\n",
              "  return Promise.resolve(next.value.promise).then((value) => {\n",
              "    // Cache the last promise value to make it available to the next\n",
              "    // step of the generator.\n",
              "    outputElement.lastPromiseValue = value;\n",
              "    return next.value.response;\n",
              "  });\n",
              "}\n",
              "\n",
              "/**\n",
              " * Generator function which is called between each async step of the upload\n",
              " * process.\n",
              " * @param {string} inputId Element ID of the input file picker element.\n",
              " * @param {string} outputId Element ID of the output display.\n",
              " * @return {!Iterable<!Object>} Iterable of next steps.\n",
              " */\n",
              "function* uploadFilesStep(inputId, outputId) {\n",
              "  const inputElement = document.getElementById(inputId);\n",
              "  inputElement.disabled = false;\n",
              "\n",
              "  const outputElement = document.getElementById(outputId);\n",
              "  outputElement.innerHTML = '';\n",
              "\n",
              "  const pickedPromise = new Promise((resolve) => {\n",
              "    inputElement.addEventListener('change', (e) => {\n",
              "      resolve(e.target.files);\n",
              "    });\n",
              "  });\n",
              "\n",
              "  const cancel = document.createElement('button');\n",
              "  inputElement.parentElement.appendChild(cancel);\n",
              "  cancel.textContent = 'Cancel upload';\n",
              "  const cancelPromise = new Promise((resolve) => {\n",
              "    cancel.onclick = () => {\n",
              "      resolve(null);\n",
              "    };\n",
              "  });\n",
              "\n",
              "  // Wait for the user to pick the files.\n",
              "  const files = yield {\n",
              "    promise: Promise.race([pickedPromise, cancelPromise]),\n",
              "    response: {\n",
              "      action: 'starting',\n",
              "    }\n",
              "  };\n",
              "\n",
              "  cancel.remove();\n",
              "\n",
              "  // Disable the input element since further picks are not allowed.\n",
              "  inputElement.disabled = true;\n",
              "\n",
              "  if (!files) {\n",
              "    return {\n",
              "      response: {\n",
              "        action: 'complete',\n",
              "      }\n",
              "    };\n",
              "  }\n",
              "\n",
              "  for (const file of files) {\n",
              "    const li = document.createElement('li');\n",
              "    li.append(span(file.name, {fontWeight: 'bold'}));\n",
              "    li.append(span(\n",
              "        `(${file.type || 'n/a'}) - ${file.size} bytes, ` +\n",
              "        `last modified: ${\n",
              "            file.lastModifiedDate ? file.lastModifiedDate.toLocaleDateString() :\n",
              "                                    'n/a'} - `));\n",
              "    const percent = span('0% done');\n",
              "    li.appendChild(percent);\n",
              "\n",
              "    outputElement.appendChild(li);\n",
              "\n",
              "    const fileDataPromise = new Promise((resolve) => {\n",
              "      const reader = new FileReader();\n",
              "      reader.onload = (e) => {\n",
              "        resolve(e.target.result);\n",
              "      };\n",
              "      reader.readAsArrayBuffer(file);\n",
              "    });\n",
              "    // Wait for the data to be ready.\n",
              "    let fileData = yield {\n",
              "      promise: fileDataPromise,\n",
              "      response: {\n",
              "        action: 'continue',\n",
              "      }\n",
              "    };\n",
              "\n",
              "    // Use a chunked sending to avoid message size limits. See b/62115660.\n",
              "    let position = 0;\n",
              "    do {\n",
              "      const length = Math.min(fileData.byteLength - position, MAX_PAYLOAD_SIZE);\n",
              "      const chunk = new Uint8Array(fileData, position, length);\n",
              "      position += length;\n",
              "\n",
              "      const base64 = btoa(String.fromCharCode.apply(null, chunk));\n",
              "      yield {\n",
              "        response: {\n",
              "          action: 'append',\n",
              "          file: file.name,\n",
              "          data: base64,\n",
              "        },\n",
              "      };\n",
              "\n",
              "      let percentDone = fileData.byteLength === 0 ?\n",
              "          100 :\n",
              "          Math.round((position / fileData.byteLength) * 100);\n",
              "      percent.textContent = `${percentDone}% done`;\n",
              "\n",
              "    } while (position < fileData.byteLength);\n",
              "  }\n",
              "\n",
              "  // All done.\n",
              "  yield {\n",
              "    response: {\n",
              "      action: 'complete',\n",
              "    }\n",
              "  };\n",
              "}\n",
              "\n",
              "scope.google = scope.google || {};\n",
              "scope.google.colab = scope.google.colab || {};\n",
              "scope.google.colab._files = {\n",
              "  _uploadFiles,\n",
              "  _uploadFilesContinue,\n",
              "};\n",
              "})(self);\n",
              "</script> "
            ]
          },
          "metadata": {}
        },
        {
          "output_type": "stream",
          "name": "stdout",
          "text": [
            "Saving control_group.csv to control_group.csv\n",
            "Saving test_group.csv to test_group.csv\n"
          ]
        }
      ]
    },
    {
      "cell_type": "code",
      "source": [
        "# Define the read_data function\n",
        "import pandas as pd\n",
        "import os\n",
        "\n",
        "def read_data():\n",
        "    control_df = pd.read_csv(os.path.join(\"AB Test & Hypothesis Testing for E-commerce\", \"control_group.csv\"), sep=';')\n",
        "    test_df = pd.read_csv(os.path.join(\"AB Test & Hypothesis Testing for E-commerce\", \"test_group.csv\"), sep=';')\n",
        "    return control_df, test_df"
      ],
      "metadata": {
        "id": "4OcvAKRJTx_-"
      },
      "execution_count": 24,
      "outputs": []
    },
    {
      "cell_type": "code",
      "source": [
        "control, test = read_data()"
      ],
      "metadata": {
        "trusted": true,
        "id": "FKB1Gtm5DKz8"
      },
      "execution_count": 12,
      "outputs": []
    },
    {
      "cell_type": "code",
      "source": [
        "#TODO : print what is control\n",
        "\n",
        "print(\"CONTROL DATA PREVIEW\")\n",
        "print(control.head())\n"
      ],
      "metadata": {
        "trusted": true,
        "id": "A7ip7bmEDKz9",
        "colab": {
          "base_uri": "https://localhost:8080/"
        },
        "outputId": "e84ccd58-0d18-47d7-9fab-2c6c245e67b1"
      },
      "execution_count": 13,
      "outputs": [
        {
          "output_type": "stream",
          "name": "stdout",
          "text": [
            "CONTROL DATA PREVIEW\n",
            "      Campaign Name       Date  Spend [USD]  # of Impressions     Reach  \\\n",
            "0  Control Campaign  1.08.2019         2280           82702.0   56930.0   \n",
            "1  Control Campaign  2.08.2019         1757          121040.0  102513.0   \n",
            "2  Control Campaign  3.08.2019         2343          131711.0  110862.0   \n",
            "3  Control Campaign  4.08.2019         1940           72878.0   61235.0   \n",
            "4  Control Campaign  5.08.2019         1835               NaN       NaN   \n",
            "\n",
            "   # of Website Clicks  # of Searches  # of View Content  # of Add to Cart  \\\n",
            "0               7016.0         2290.0             2159.0            1819.0   \n",
            "1               8110.0         2033.0             1841.0            1219.0   \n",
            "2               6508.0         1737.0             1549.0            1134.0   \n",
            "3               3065.0         1042.0              982.0            1183.0   \n",
            "4                  NaN            NaN                NaN               NaN   \n",
            "\n",
            "   # of Purchase  \n",
            "0          618.0  \n",
            "1          511.0  \n",
            "2          372.0  \n",
            "3          340.0  \n",
            "4            NaN  \n"
          ]
        }
      ]
    },
    {
      "cell_type": "code",
      "source": [
        "#TODO : print what is test\n",
        "\n",
        "print(\"TEST DATA PREVIEW\")\n",
        "print(test.head())\n"
      ],
      "metadata": {
        "trusted": true,
        "id": "i5g2eQGeDKz9",
        "colab": {
          "base_uri": "https://localhost:8080/"
        },
        "outputId": "7c3ef24d-def5-4abd-b5b7-3eb6a422c867"
      },
      "execution_count": 14,
      "outputs": [
        {
          "output_type": "stream",
          "name": "stdout",
          "text": [
            "TEST DATA PREVIEW\n",
            "   Campaign Name       Date  Spend [USD]  # of Impressions  Reach  \\\n",
            "0  Test Campaign  1.08.2019         3008             39550  35820   \n",
            "1  Test Campaign  2.08.2019         2542            100719  91236   \n",
            "2  Test Campaign  3.08.2019         2365             70263  45198   \n",
            "3  Test Campaign  4.08.2019         2710             78451  25937   \n",
            "4  Test Campaign  5.08.2019         2297            114295  95138   \n",
            "\n",
            "   # of Website Clicks  # of Searches  # of View Content  # of Add to Cart  \\\n",
            "0                 3038           1946               1069               894   \n",
            "1                 4657           2359               1548               879   \n",
            "2                 7885           2572               2367              1268   \n",
            "3                 4216           2216               1437               566   \n",
            "4                 5863           2106                858               956   \n",
            "\n",
            "   # of Purchase  \n",
            "0            255  \n",
            "1            677  \n",
            "2            578  \n",
            "3            340  \n",
            "4            768  \n"
          ]
        }
      ]
    },
    {
      "cell_type": "code",
      "source": [
        "#TODO : check for null values in control\n",
        "\n",
        "print(\"NULL VALUES IN CONTROL\")\n",
        "print(control.isnull().sum())\n"
      ],
      "metadata": {
        "trusted": true,
        "id": "VSQKSys2DKz-",
        "colab": {
          "base_uri": "https://localhost:8080/"
        },
        "outputId": "7669852f-ab8b-4afa-cfaa-59925dcb9638"
      },
      "execution_count": 15,
      "outputs": [
        {
          "output_type": "stream",
          "name": "stdout",
          "text": [
            "NULL VALUES IN CONTROL\n",
            "Campaign Name          0\n",
            "Date                   0\n",
            "Spend [USD]            0\n",
            "# of Impressions       1\n",
            "Reach                  1\n",
            "# of Website Clicks    1\n",
            "# of Searches          1\n",
            "# of View Content      1\n",
            "# of Add to Cart       1\n",
            "# of Purchase          1\n",
            "dtype: int64\n"
          ]
        }
      ]
    },
    {
      "cell_type": "code",
      "source": [
        "#TODO : segment the control DataFrame into two separate DataFrames based on data type: one for categorical variables (kat_control) and one for numerical variables (num_control).\n",
        "#TODO :produces lists of column names for both categories for further use or reference.\n",
        "\n",
        "\n",
        "kat_control = control.select_dtypes(include=['object'])     # Categorical\n",
        "num_control = control.select_dtypes(include=['int64', 'float64'])  # Numerical\n",
        "\n",
        "kat_columns = kat_control.columns.tolist()\n",
        "num_columns = num_control.columns.tolist()\n",
        "\n",
        "print(\"Categorical columns:\", kat_columns)\n",
        "print(\"Numerical columns:\", num_columns)\n"
      ],
      "metadata": {
        "trusted": true,
        "id": "XUBSKm7dDKz_",
        "colab": {
          "base_uri": "https://localhost:8080/"
        },
        "outputId": "b223687d-79e1-4f13-de32-071ad1b94e28"
      },
      "execution_count": 16,
      "outputs": [
        {
          "output_type": "stream",
          "name": "stdout",
          "text": [
            "Categorical columns: ['Campaign Name', 'Date']\n",
            "Numerical columns: ['Spend [USD]', '# of Impressions', 'Reach', '# of Website Clicks', '# of Searches', '# of View Content', '# of Add to Cart', '# of Purchase']\n"
          ]
        }
      ]
    },
    {
      "cell_type": "code",
      "source": [
        "# TODO : Fill the control dataframe values NaN value with KNNImputer.\n",
        "\n",
        "from sklearn.impute import KNNImputer\n",
        "\n",
        "imputer = KNNImputer(n_neighbors=5)\n",
        "num_control_imputed = pd.DataFrame(imputer.fit_transform(num_control), columns=num_control.columns)\n",
        "\n",
        "print(\"Nulls after imputation:\\n\", num_control_imputed.isnull().sum())\n"
      ],
      "metadata": {
        "trusted": true,
        "id": "0JmqqTWJDKz_",
        "colab": {
          "base_uri": "https://localhost:8080/"
        },
        "outputId": "39fbc5f4-5550-4ff8-aee1-d85f95fc4955"
      },
      "execution_count": 17,
      "outputs": [
        {
          "output_type": "stream",
          "name": "stdout",
          "text": [
            "Nulls after imputation:\n",
            " Spend [USD]            0\n",
            "# of Impressions       0\n",
            "Reach                  0\n",
            "# of Website Clicks    0\n",
            "# of Searches          0\n",
            "# of View Content      0\n",
            "# of Add to Cart       0\n",
            "# of Purchase          0\n",
            "dtype: int64\n"
          ]
        }
      ]
    },
    {
      "cell_type": "code",
      "source": [
        "# TODO : Combine categorical and numerical variables with the concept.\n",
        "\n",
        "control = pd.concat([kat_control.reset_index(drop=True), num_control_imputed.reset_index(drop=True)], axis=1)\n",
        "print(\"Control data after combining:\", control.shape)\n"
      ],
      "metadata": {
        "trusted": true,
        "id": "fvBuwD66DK0B",
        "colab": {
          "base_uri": "https://localhost:8080/"
        },
        "outputId": "fa646245-1a9f-4ec0-b332-e6910d8a3271"
      },
      "execution_count": 18,
      "outputs": [
        {
          "output_type": "stream",
          "name": "stdout",
          "text": [
            "Control data after combining: (30, 10)\n"
          ]
        }
      ]
    },
    {
      "cell_type": "code",
      "source": [
        "# Let's do a data type conversion.\n",
        "\n",
        "control = convert_datatype(control)\n",
        "\n",
        "print(control.shape)\n",
        "print(test.shape)"
      ],
      "metadata": {
        "trusted": true,
        "id": "upfhU8BZDK0C",
        "colab": {
          "base_uri": "https://localhost:8080/"
        },
        "outputId": "81fdbea6-fe24-49fd-909c-3b0d1a94e0b2"
      },
      "execution_count": 19,
      "outputs": [
        {
          "output_type": "stream",
          "name": "stdout",
          "text": [
            "(30, 10)\n",
            "(30, 10)\n"
          ]
        }
      ]
    },
    {
      "cell_type": "code",
      "source": [
        "# Check your dataframes\n",
        "\n",
        "print(control.info())\n",
        "print(test.info())"
      ],
      "metadata": {
        "trusted": true,
        "id": "FsNo0ySmDK0C",
        "colab": {
          "base_uri": "https://localhost:8080/"
        },
        "outputId": "3d0494e9-6eb9-4165-bab7-a287c39491b2"
      },
      "execution_count": 20,
      "outputs": [
        {
          "output_type": "stream",
          "name": "stdout",
          "text": [
            "<class 'pandas.core.frame.DataFrame'>\n",
            "RangeIndex: 30 entries, 0 to 29\n",
            "Data columns (total 10 columns):\n",
            " #   Column               Non-Null Count  Dtype  \n",
            "---  ------               --------------  -----  \n",
            " 0   Campaign Name        30 non-null     object \n",
            " 1   Date                 30 non-null     object \n",
            " 2   Spend [USD]          30 non-null     float64\n",
            " 3   # of Impressions     30 non-null     int64  \n",
            " 4   Reach                30 non-null     int64  \n",
            " 5   # of Website Clicks  30 non-null     int64  \n",
            " 6   # of Searches        30 non-null     int64  \n",
            " 7   # of View Content    30 non-null     int64  \n",
            " 8   # of Add to Cart     30 non-null     int64  \n",
            " 9   # of Purchase        30 non-null     int64  \n",
            "dtypes: float64(1), int64(7), object(2)\n",
            "memory usage: 2.5+ KB\n",
            "None\n",
            "<class 'pandas.core.frame.DataFrame'>\n",
            "RangeIndex: 30 entries, 0 to 29\n",
            "Data columns (total 10 columns):\n",
            " #   Column               Non-Null Count  Dtype \n",
            "---  ------               --------------  ----- \n",
            " 0   Campaign Name        30 non-null     object\n",
            " 1   Date                 30 non-null     object\n",
            " 2   Spend [USD]          30 non-null     int64 \n",
            " 3   # of Impressions     30 non-null     int64 \n",
            " 4   Reach                30 non-null     int64 \n",
            " 5   # of Website Clicks  30 non-null     int64 \n",
            " 6   # of Searches        30 non-null     int64 \n",
            " 7   # of View Content    30 non-null     int64 \n",
            " 8   # of Add to Cart     30 non-null     int64 \n",
            " 9   # of Purchase        30 non-null     int64 \n",
            "dtypes: int64(8), object(2)\n",
            "memory usage: 2.5+ KB\n",
            "None\n"
          ]
        }
      ]
    },
    {
      "cell_type": "code",
      "source": [
        "print(\"CONTROL:\\n\", control.describe(include='all'))\n",
        "print(\"\\nTEST:\\n\", test.describe(include='all'))\n"
      ],
      "metadata": {
        "colab": {
          "base_uri": "https://localhost:8080/"
        },
        "id": "C1ja8lhhWo4S",
        "outputId": "af7b94f2-8ced-4817-e594-1de6fd5a8f39"
      },
      "execution_count": 21,
      "outputs": [
        {
          "output_type": "stream",
          "name": "stdout",
          "text": [
            "CONTROL:\n",
            "            Campaign Name       Date  Spend [USD]  # of Impressions  \\\n",
            "count                 30         30    30.000000         30.000000   \n",
            "unique                 1         30          NaN               NaN   \n",
            "top     Control Campaign  1.08.2019          NaN               NaN   \n",
            "freq                  30          1          NaN               NaN   \n",
            "mean                 NaN        NaN  2288.433333     109186.466667   \n",
            "std                  NaN        NaN   367.334451      21409.548580   \n",
            "min                  NaN        NaN  1757.000000      71274.000000   \n",
            "25%                  NaN        NaN  1945.500000      93612.000000   \n",
            "50%                  NaN        NaN  2299.500000     112368.000000   \n",
            "75%                  NaN        NaN  2532.000000     121259.000000   \n",
            "max                  NaN        NaN  3083.000000     145248.000000   \n",
            "\n",
            "                Reach  # of Website Clicks  # of Searches  # of View Content  \\\n",
            "count       30.000000            30.000000      30.000000          30.000000   \n",
            "unique            NaN                  NaN            NaN                NaN   \n",
            "top               NaN                  NaN            NaN                NaN   \n",
            "freq              NaN                  NaN            NaN                NaN   \n",
            "mean     88498.266667          5335.500000    2218.500000        1943.366667   \n",
            "std      21536.492661          1728.681554     851.164993         764.025477   \n",
            "min      42859.000000          2277.000000    1001.000000         848.000000   \n",
            "25%      75255.250000          4122.250000    1629.250000        1249.000000   \n",
            "50%      91418.000000          5329.500000    2340.000000        1979.500000   \n",
            "75%     101958.750000          6609.500000    2655.000000        2360.500000   \n",
            "max     127852.000000          8137.000000    4891.000000        4219.000000   \n",
            "\n",
            "        # of Add to Cart  # of Purchase  \n",
            "count          30.000000      30.000000  \n",
            "unique               NaN            NaN  \n",
            "top                  NaN            NaN  \n",
            "freq                 NaN            NaN  \n",
            "mean         1300.466667     524.533333  \n",
            "std           400.379366     182.060190  \n",
            "min           442.000000     222.000000  \n",
            "25%           942.500000     375.500000  \n",
            "50%          1326.500000     506.000000  \n",
            "75%          1638.000000     663.250000  \n",
            "max          1913.000000     800.000000  \n",
            "\n",
            "TEST:\n",
            "         Campaign Name       Date  Spend [USD]  # of Impressions  \\\n",
            "count              30         30    30.000000         30.000000   \n",
            "unique              1         30          NaN               NaN   \n",
            "top     Test Campaign  1.08.2019          NaN               NaN   \n",
            "freq               30          1          NaN               NaN   \n",
            "mean              NaN        NaN  2563.066667      74584.800000   \n",
            "std               NaN        NaN   348.687681      32121.377422   \n",
            "min               NaN        NaN  1968.000000      22521.000000   \n",
            "25%               NaN        NaN  2324.500000      47541.250000   \n",
            "50%               NaN        NaN  2584.000000      68853.500000   \n",
            "75%               NaN        NaN  2836.250000      99500.000000   \n",
            "max               NaN        NaN  3112.000000     133771.000000   \n",
            "\n",
            "                Reach  # of Website Clicks  # of Searches  # of View Content  \\\n",
            "count       30.000000            30.000000      30.000000          30.000000   \n",
            "unique            NaN                  NaN            NaN                NaN   \n",
            "top               NaN                  NaN            NaN                NaN   \n",
            "freq              NaN                  NaN            NaN                NaN   \n",
            "mean     53491.566667          6032.333333    2418.966667        1858.000000   \n",
            "std      28795.775752          1708.567263     388.742312         597.654669   \n",
            "min      10598.000000          3038.000000    1854.000000         858.000000   \n",
            "25%      31516.250000          4407.000000    2043.000000        1320.000000   \n",
            "50%      44219.500000          6242.500000    2395.500000        1881.000000   \n",
            "75%      78778.750000          7604.750000    2801.250000        2412.000000   \n",
            "max     109834.000000          8264.000000    2978.000000        2801.000000   \n",
            "\n",
            "        # of Add to Cart  # of Purchase  \n",
            "count          30.000000      30.000000  \n",
            "unique               NaN            NaN  \n",
            "top                  NaN            NaN  \n",
            "freq                 NaN            NaN  \n",
            "mean          881.533333     521.233333  \n",
            "std           347.584248     211.047745  \n",
            "min           278.000000     238.000000  \n",
            "25%           582.500000     298.000000  \n",
            "50%           974.000000     500.000000  \n",
            "75%          1148.500000     701.000000  \n",
            "max          1391.000000     890.000000  \n"
          ]
        }
      ]
    },
    {
      "cell_type": "code",
      "source": [
        "print(\"First rows of control group:\")\n",
        "print(control.head())\n",
        "\n",
        "print(\"\\nFirst rows of test group:\")\n",
        "print(test.head())\n"
      ],
      "metadata": {
        "colab": {
          "base_uri": "https://localhost:8080/"
        },
        "id": "YOEWBumqWvOg",
        "outputId": "bf3e4197-62a7-4456-c2d5-8a92f7af6575"
      },
      "execution_count": 22,
      "outputs": [
        {
          "output_type": "stream",
          "name": "stdout",
          "text": [
            "First rows of control group:\n",
            "      Campaign Name       Date  Spend [USD]  # of Impressions   Reach  \\\n",
            "0  Control Campaign  1.08.2019       2280.0             82702   56930   \n",
            "1  Control Campaign  2.08.2019       1757.0            121040  102513   \n",
            "2  Control Campaign  3.08.2019       2343.0            131711  110862   \n",
            "3  Control Campaign  4.08.2019       1940.0             72878   61235   \n",
            "4  Control Campaign  5.08.2019       1835.0             98361   78445   \n",
            "\n",
            "   # of Website Clicks  # of Searches  # of View Content  # of Add to Cart  \\\n",
            "0                 7016           2290               2159              1819   \n",
            "1                 8110           2033               1841              1219   \n",
            "2                 6508           1737               1549              1134   \n",
            "3                 3065           1042                982              1183   \n",
            "4                 5762           2137               1931              1314   \n",
            "\n",
            "   # of Purchase  \n",
            "0            618  \n",
            "1            511  \n",
            "2            372  \n",
            "3            340  \n",
            "4            575  \n",
            "\n",
            "First rows of test group:\n",
            "   Campaign Name       Date  Spend [USD]  # of Impressions  Reach  \\\n",
            "0  Test Campaign  1.08.2019         3008             39550  35820   \n",
            "1  Test Campaign  2.08.2019         2542            100719  91236   \n",
            "2  Test Campaign  3.08.2019         2365             70263  45198   \n",
            "3  Test Campaign  4.08.2019         2710             78451  25937   \n",
            "4  Test Campaign  5.08.2019         2297            114295  95138   \n",
            "\n",
            "   # of Website Clicks  # of Searches  # of View Content  # of Add to Cart  \\\n",
            "0                 3038           1946               1069               894   \n",
            "1                 4657           2359               1548               879   \n",
            "2                 7885           2572               2367              1268   \n",
            "3                 4216           2216               1437               566   \n",
            "4                 5863           2106                858               956   \n",
            "\n",
            "   # of Purchase  \n",
            "0            255  \n",
            "1            677  \n",
            "2            578  \n",
            "3            340  \n",
            "4            768  \n"
          ]
        }
      ]
    },
    {
      "cell_type": "markdown",
      "source": [
        "## 4. Preparing Data for Hypothesis Testing (A/B Test)\n",
        "\n"
      ],
      "metadata": {
        "id": "3fgAFAElDK0C"
      }
    },
    {
      "cell_type": "code",
      "source": [
        "#TODO : Apply the feature engineering on control and test, what does the function do exactly ?\n",
        "\n",
        "control, test = feature_engineering(control, test)\n",
        "\n",
        "#TODO : Prepare and generate features for visualization with the help of a function\n",
        "\n",
        "# Add group labels\n",
        "control[\"Group\"] = \"Control\"\n",
        "test[\"Group\"] = \"Test\"\n",
        "\n",
        "# Combine into a single dataframe\n",
        "AB = pd.concat([control, test], axis=0).reset_index(drop=True)\n",
        "\n"
      ],
      "metadata": {
        "trusted": true,
        "id": "dGIMTMSVDK0C"
      },
      "execution_count": 27,
      "outputs": []
    },
    {
      "cell_type": "markdown",
      "source": [
        "Let's look at the numbers A and B."
      ],
      "metadata": {
        "id": "zWhSa2gMDK0D"
      }
    },
    {
      "cell_type": "code",
      "source": [
        "AB[\"Group\"].value_counts()"
      ],
      "metadata": {
        "trusted": true,
        "id": "kqButFScDK0D",
        "colab": {
          "base_uri": "https://localhost:8080/",
          "height": 178
        },
        "outputId": "d51ea49a-e482-4f25-f40f-21d2a3d06522"
      },
      "execution_count": 26,
      "outputs": [
        {
          "output_type": "execute_result",
          "data": {
            "text/plain": [
              "Group\n",
              "Control    30\n",
              "Test       30\n",
              "Name: count, dtype: int64"
            ],
            "text/html": [
              "<div>\n",
              "<style scoped>\n",
              "    .dataframe tbody tr th:only-of-type {\n",
              "        vertical-align: middle;\n",
              "    }\n",
              "\n",
              "    .dataframe tbody tr th {\n",
              "        vertical-align: top;\n",
              "    }\n",
              "\n",
              "    .dataframe thead th {\n",
              "        text-align: right;\n",
              "    }\n",
              "</style>\n",
              "<table border=\"1\" class=\"dataframe\">\n",
              "  <thead>\n",
              "    <tr style=\"text-align: right;\">\n",
              "      <th></th>\n",
              "      <th>count</th>\n",
              "    </tr>\n",
              "    <tr>\n",
              "      <th>Group</th>\n",
              "      <th></th>\n",
              "    </tr>\n",
              "  </thead>\n",
              "  <tbody>\n",
              "    <tr>\n",
              "      <th>Control</th>\n",
              "      <td>30</td>\n",
              "    </tr>\n",
              "    <tr>\n",
              "      <th>Test</th>\n",
              "      <td>30</td>\n",
              "    </tr>\n",
              "  </tbody>\n",
              "</table>\n",
              "</div><br><label><b>dtype:</b> int64</label>"
            ]
          },
          "metadata": {},
          "execution_count": 26
        }
      ]
    },
    {
      "cell_type": "markdown",
      "source": [
        "### 4.1. Website Click Through Rate (CTR)\n",
        "Review :\n",
        "- It is a rate that shows how often the users who saw the ad CLICK the ad.\n",
        "- Number of Ad Clicks / Number of Ad Displays\n",
        "- Example: 5 clicks, CTR at 100 impressions = 5%\n",
        "\n",
        "- ##### Use visualizations to compare test and control group metrics, such as Website Click Through Rate, Cost per Action, and Conversion Rates in addition to Purchase numbers."
      ],
      "metadata": {
        "id": "LcQoKNZfDK0D"
      }
    },
    {
      "cell_type": "code",
      "source": [
        "cols = [\"Website Click Through Rate\",\"Cost per Action\",\"Conversion Rate\",\"# of Purchase\"]\n",
        "show_boxplot(2,2,[0,1],cols,(18,9))"
      ],
      "metadata": {
        "trusted": true,
        "id": "sWYF0FWdDK0D",
        "colab": {
          "base_uri": "https://localhost:8080/",
          "height": 775
        },
        "outputId": "712fba49-5713-445b-d990-64eca6b83db9"
      },
      "execution_count": 28,
      "outputs": [
        {
          "output_type": "display_data",
          "data": {
            "text/plain": [
              "<Figure size 1800x900 with 4 Axes>"
            ],
            "image/png": "[encoded data removed]"
          },
          "metadata": {}
        }
      ]
    },
    {
      "cell_type": "code",
      "source": [
        "#TODO : create your dataframe for AB test and print the first 3 rows of it.\n",
        "\n",
        "\n",
        "AB_test_df = AB[[\"Group\", \"Website Click Through Rate\", \"Cost per Action\", \"Conversion Rate\", \"# of Purchase\"]]\n",
        "print(AB_test_df.head(3))\n",
        "\n"
      ],
      "metadata": {
        "trusted": true,
        "id": "J2o5A1f1DK0D",
        "colab": {
          "base_uri": "https://localhost:8080/"
        },
        "outputId": "639b6388-b19c-4b07-8c1a-5f1d9a3f7d84"
      },
      "execution_count": 29,
      "outputs": [
        {
          "output_type": "stream",
          "name": "stdout",
          "text": [
            "     Group  Website Click Through Rate  Cost per Action  Conversion Rate  \\\n",
            "0  Control                    8.483471         0.023602      1376.909920   \n",
            "1  Control                    6.700264         0.013039      1661.578298   \n",
            "2  Control                    4.941121         0.016383      2197.464659   \n",
            "\n",
            "   # of Purchase  \n",
            "0            618  \n",
            "1            511  \n",
            "2            372  \n"
          ]
        }
      ]
    },
    {
      "cell_type": "markdown",
      "source": [
        "## 5. Two Independent Sample T-Test\n",
        "### 5.1. Assumption Check\n",
        "#### 5.1.1. Normality Assumption (shapiro test)\n",
        "\n",
        " * **H0**: Normal distribution assumption is provided.\n",
        " * **H1**: ... not provided."
      ],
      "metadata": {
        "id": "yoYPauAlDK0E"
      }
    },
    {
      "cell_type": "code",
      "source": [
        "#TODO : Aply the normality assumption of the dataframe for A\n",
        "\n",
        "from scipy.stats import shapiro\n",
        "\n",
        "# Use the correct DataFrame name: AB\n",
        "group_A = AB[AB[\"Group\"] == \"Control\"][\"# of Purchase\"]\n",
        "\n",
        "stat_A, p_value_A = shapiro(group_A)\n",
        "\n",
        "print(\"Group A - Shapiro-Wilk Test Statistic:\", round(stat_A, 3))\n",
        "print(\"Group A - P-Value:\", round(p_value_A, 3))\n",
        "\n"
      ],
      "metadata": {
        "trusted": true,
        "id": "4xMzj7PtDK0E",
        "colab": {
          "base_uri": "https://localhost:8080/"
        },
        "outputId": "3aa38a77-d266-45ee-f82e-88ec0efd9007"
      },
      "execution_count": 31,
      "outputs": [
        {
          "output_type": "stream",
          "name": "stdout",
          "text": [
            "Group A - Shapiro-Wilk Test Statistic: 0.944\n",
            "Group A - P-Value: 0.117\n"
          ]
        }
      ]
    },
    {
      "cell_type": "code",
      "source": [
        "def checkReject(p_value, alpha=0.05):\n",
        "    return \"Reject H0 (Not Normal)\" if p_value < alpha else \"Fail to Reject H0 (Normal)\"\n"
      ],
      "metadata": {
        "id": "YMDxf3rCaMX-"
      },
      "execution_count": 32,
      "outputs": []
    },
    {
      "cell_type": "code",
      "source": [
        "print(\"Group A Normality Conclusion:\", checkReject(p_value_A))\n"
      ],
      "metadata": {
        "colab": {
          "base_uri": "https://localhost:8080/"
        },
        "id": "_7OZ6fXiaYK5",
        "outputId": "eac96d6f-497f-4e60-ff20-27726819a680"
      },
      "execution_count": 33,
      "outputs": [
        {
          "output_type": "stream",
          "name": "stdout",
          "text": [
            "Group A Normality Conclusion: Fail to Reject H0 (Normal)\n"
          ]
        }
      ]
    },
    {
      "cell_type": "code",
      "source": [
        "#TODO : compute p_value for normality on group A from the df_AB dataframe and round it to three decimal places.\n",
        "#TODO : pass it to a function checkReject to determine if the null hypothesis of normality should be rejected."
      ],
      "metadata": {
        "trusted": true,
        "id": "xGiKQEHrDK0E"
      },
      "execution_count": null,
      "outputs": []
    },
    {
      "cell_type": "markdown",
      "source": [
        "Does the HO hypothesis get rejected ? why ?"
      ],
      "metadata": {
        "id": "87fl16JsiHQE"
      }
    },
    {
      "cell_type": "markdown",
      "source": [
        "No, the H0 hypothesis does not get rejected because the p-value is 0.117, which is greater than 0.05. This means there is not enough evidence to reject the null hypothesis, so we assume that the data comes from a normal distribution.\n",
        "\n"
      ],
      "metadata": {
        "id": "DbIeuUlJbXM6"
      }
    },
    {
      "cell_type": "code",
      "source": [
        "#TODO : Aply the normality assumption of the dataframe for B\n",
        "\n",
        "group_B = AB[AB[\"Group\"] == \"Test\"][\"# of Purchase\"]\n",
        "\n",
        "stat_B, p_value_B = shapiro(group_B)\n",
        "\n",
        "print(\"Group B - Shapiro-Wilk Test Statistic:\", round(stat_B, 3))\n",
        "print(\"Group B - P-Value:\", round(p_value_B, 3))\n",
        "\n"
      ],
      "metadata": {
        "trusted": true,
        "id": "JTIwYUqvDK0E",
        "colab": {
          "base_uri": "https://localhost:8080/"
        },
        "outputId": "97a1efa2-f79e-4f3b-c964-f2c0b905e876"
      },
      "execution_count": 34,
      "outputs": [
        {
          "output_type": "stream",
          "name": "stdout",
          "text": [
            "Group B - Shapiro-Wilk Test Statistic: 0.918\n",
            "Group B - P-Value: 0.024\n"
          ]
        }
      ]
    },
    {
      "cell_type": "code",
      "source": [
        "#TODO : compute p_value for normality on group B from the df_AB dataframe and round it to three decimal places.\n",
        "\n",
        "print(\"Group B Normality Conclusion:\", checkReject(p_value_B))\n",
        "\n",
        "\n",
        "#TODO : pass it to a function checkReject to determine if the null hypothesis of normality should be rejected."
      ],
      "metadata": {
        "trusted": true,
        "id": "ZA0hl-TSDK0F",
        "colab": {
          "base_uri": "https://localhost:8080/"
        },
        "outputId": "9fd71d3e-f7fe-4b6c-cbd4-07a83460df8c"
      },
      "execution_count": 35,
      "outputs": [
        {
          "output_type": "stream",
          "name": "stdout",
          "text": [
            "Group B Normality Conclusion: Reject H0 (Not Normal)\n"
          ]
        }
      ]
    },
    {
      "cell_type": "markdown",
      "source": [
        "Does the HO hypothesis get rejected ? why ?"
      ],
      "metadata": {
        "id": "vsUYfCduDK0F"
      }
    },
    {
      "cell_type": "markdown",
      "source": [
        "Yes, the H0 hypothesis does get rejected because the p-value is 0.024, which is less than 0.05. This means there is enough evidence to reject the null hypothesis, so we conclude that the data does not follow a normal distribution."
      ],
      "metadata": {
        "id": "8AC1HiXYbaMk"
      }
    },
    {
      "cell_type": "markdown",
      "source": [
        "### 5.1.2. Variance Homogeneity Assumption\n",
        " * **H0** : Variances are homogeneous.\n",
        " * **H1** : Variances are not homogeneous.\n",
        "\n",
        "We want to assess if A and B have equal variances, which is a common assumption for various statistical tests :"
      ],
      "metadata": {
        "id": "oCfcl_20DK0F"
      }
    },
    {
      "cell_type": "code",
      "source": [
        "#TODO : Performs the Levene test for equality of variances on two groups, A and B, from the df_AB dataframe\n",
        "\n",
        "from scipy.stats import levene\n",
        "\n",
        "# Run Levene's test on the '# of Purchase' column for both groups\n",
        "stat_levene, p_levene = levene(\n",
        "    AB[AB[\"Group\"] == \"Control\"][\"# of Purchase\"],\n",
        "    AB[AB[\"Group\"] == \"Test\"][\"# of Purchase\"]\n",
        ")\n",
        "\n",
        "# Print the results\n",
        "print(\"Levene's Test Statistic:\", round(stat_levene, 3))\n",
        "print(\"Levene's Test P-Value:\", round(p_levene, 3))\n"
      ],
      "metadata": {
        "trusted": true,
        "id": "s6bpC7E_DK0F",
        "colab": {
          "base_uri": "https://localhost:8080/"
        },
        "outputId": "3d4b8641-310d-4f1c-85b8-e308d4bad4cc"
      },
      "execution_count": 36,
      "outputs": [
        {
          "output_type": "stream",
          "name": "stdout",
          "text": [
            "Levene's Test Statistic: 1.527\n",
            "Levene's Test P-Value: 0.222\n"
          ]
        }
      ]
    },
    {
      "cell_type": "code",
      "source": [
        "#TODO : compute the p_value of the df_AB dataframe and round it to three decimal places.\n",
        "#TODO : pass it to a function checkReject to determine if the null hypothesis of normality should be rejected."
      ],
      "metadata": {
        "trusted": true,
        "id": "Ev9jAkruDK0F"
      },
      "execution_count": null,
      "outputs": []
    },
    {
      "cell_type": "markdown",
      "source": [
        "\n",
        "Conclude about the variances, are they homogeneous ?"
      ],
      "metadata": {
        "id": "jvKow9iTDK0F"
      }
    },
    {
      "cell_type": "markdown",
      "source": [
        "No, the null hypothesis (H₀: Variances are homogeneous) is not rejected because the p-value (0.222) is greater than the significance level (0.05).\n",
        "So, we assume the variances are equal (homogeneous) between Group A and Group B."
      ],
      "metadata": {
        "id": "dp_8dpDjcKiz"
      }
    },
    {
      "cell_type": "markdown",
      "source": [
        "### 5.1.3. Nonparametric Independent Two-Sample T-Test\n",
        "\n",
        "- Since the normality of the distribution of the data set in which Average Bidding (Test Group) was measured was rejected, the NonParametric Independent Two-Sample T Test was applied for the Hypothesis Test.\n",
        "\n",
        "**Hypothesis:**\n",
        "\n",
        " * **H0** : When it comes to Maximum Bidding and Average Bidding, there is no statistically significant difference between the purchasing amounts of the two groups. ($\\mu_1 = \\mu_2$)\n",
        "\n",
        " * **H1** : ... there is a difference ($\\mu_1 \\neq \\mu_2$)"
      ],
      "metadata": {
        "id": "fs4VQn0sDK0G"
      }
    },
    {
      "cell_type": "code",
      "source": [
        "# Average Bidding in (Test Group)\n",
        "from scipy.stats import mannwhitneyu\n",
        "\n",
        "# Extract the purchase data for both groups\n",
        "group_A = AB[AB[\"Group\"] == \"Control\"][\"# of Purchase\"]\n",
        "group_B = AB[AB[\"Group\"] == \"Test\"][\"# of Purchase\"]\n",
        "\n",
        "# Run the Mann-Whitney U test\n",
        "stat, p_value = mannwhitneyu(group_A, group_B)\n",
        "\n",
        "# Print the results\n",
        "print(\"Mann-Whitney U Test Statistic:\", round(stat, 3))\n",
        "print(\"P-Value:\", round(p_value, 3))\n",
        "\n",
        "# Conclusion based on p-value\n",
        "def checkReject(p_value, alpha=0.05):\n",
        "    return \"Reject H₀ (Significant Difference)\" if p_value < alpha else \"Fail to Reject H₀ (No Significant Difference)\"\n",
        "\n",
        "print(\"Conclusion:\", checkReject(p_value))\n"
      ],
      "metadata": {
        "trusted": true,
        "id": "b0SwcIuwDK0G",
        "colab": {
          "base_uri": "https://localhost:8080/"
        },
        "outputId": "9d03c35b-43b6-4d6f-eb8b-f4c64d4c7f5c"
      },
      "execution_count": 41,
      "outputs": [
        {
          "output_type": "stream",
          "name": "stdout",
          "text": [
            "Mann-Whitney U Test Statistic: 456.0\n",
            "P-Value: 0.935\n",
            "Conclusion: Fail to Reject H₀ (No Significant Difference)\n"
          ]
        }
      ]
    },
    {
      "cell_type": "markdown",
      "source": [
        "Should the H0 hypothesis be rejected ? Why ? What can you conclude ?"
      ],
      "metadata": {
        "id": "FlZXI66ODK0G"
      }
    },
    {
      "cell_type": "markdown",
      "source": [
        "No, the H₀ hypothesis should not be rejected because the p-value is 0.935, which is much higher than the significance level of 0.05. This means there is no statistically significant difference between the purchasing behavior of the Control and Test groups. Therefore, we conclude that the change implemented in the Test Group did not have a meaningful effect on the number of purchases."
      ],
      "metadata": {
        "id": "FznVesazeaHC"
      }
    },
    {
      "cell_type": "markdown",
      "source": [
        "## 6. Conclusion and Evaluation\n",
        "\n",
        "\n",
        "##### You should answer the following questions :\n",
        "\n",
        "\n",
        "**1. How would you define the hypothesis of this A/B test ?**\n",
        "\n",
        "\n",
        "   \n",
        "**2. Can we conclude statistically significant results?**\n",
        "\n",
        "  \n",
        "\n",
        "\n",
        "**3. Which statistical test did you use, and why?**\n",
        "   \n",
        "    \n",
        "**4. Based on your answer to Question 2, what would be your recommendation to client?**\n",
        "\n",
        "   "
      ],
      "metadata": {
        "id": "G5x0g1X1DK0G"
      }
    },
    {
      "cell_type": "markdown",
      "source": [
        "1. How would you define the hypothesis of this A/B test?\n",
        "\n",
        "H₀ (Null Hypothesis): There is no statistically significant difference in the number of purchases between the Control group and the Test group (μ₁ = μ₂).\n",
        "\n",
        "H₁ (Alternative Hypothesis): There is a statistically significant difference in the number of purchases between the Control group and the Test group (μ₁ ≠ μ₂)"
      ],
      "metadata": {
        "id": "tPLgGEYIemOI"
      }
    },
    {
      "cell_type": "markdown",
      "source": [
        "2. Can we conclude statistically significant results?\n",
        "\n",
        "No, we cannot conclude statistically significant results. The p-value from the Mann-Whitney U Test was 0.935, which is much higher than the significance threshold of 0.05. This indicates there is no significant difference in performance between the Control and Test groups."
      ],
      "metadata": {
        "id": "7Nw7LiWHeq6t"
      }
    },
    {
      "cell_type": "markdown",
      "source": [
        "3. Which statistical test did you use, and why?\n",
        "\n",
        "I used the Mann-Whitney U Test, a nonparametric test for comparing two independent samples. This test was chosen because the normality assumption was violated for the Test group (as revealed by the Shapiro-Wilk test). The Mann-Whitney U Test does not assume a normal distribution and is appropriate for comparing medians in such cases."
      ],
      "metadata": {
        "id": "gmMFLf1Ce4Jb"
      }
    },
    {
      "cell_type": "markdown",
      "source": [
        "4. Based on your answer to Question 2, what would be your recommendation to the client?\n",
        "\n",
        "Since there is no statistically significant difference in the performance between the Control and Test groups, I recommend not rolling out the changes made in the Test group at this time. The new implementation did not lead to improved purchasing behavior, and maintaining the current version (Control) would be more stable and cost-effective until further tests are conducted."
      ],
      "metadata": {
        "id": "rOlYMKv1fDN9"
      }
    }
  ]
}