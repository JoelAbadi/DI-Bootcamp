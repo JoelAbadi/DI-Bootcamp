{
  "nbformat": 4,
  "nbformat_minor": 0,
  "metadata": {
    "colab": {
      "provenance": [],
      "authorship_tag": "ABX9TyOsI4FwtAVytZQzg1pOvCTy",
      "include_colab_link": true
    },
    "kernelspec": {
      "name": "python3",
      "display_name": "Python 3"
    },
    "language_info": {
      "name": "python"
    }
  },
  "cells": [
    {
      "cell_type": "markdown",
      "metadata": {
        "id": "view-in-github",
        "colab_type": "text"
      },
      "source": [
        "<a href=\"https://colab.research.google.com/github/JoelAbadi/DI-Bootcamp/blob/main/W4_D1_exercises.ipynb\" target=\"_parent\"><img src=\"https://colab.research.google.com/assets/colab-badge.svg\" alt=\"Open In Colab\"/></a>"
      ]
    },
    {
      "cell_type": "markdown",
      "source": [
        "Exercise 1\n"
      ],
      "metadata": {
        "id": "NJR8Tb7WQYqj"
      }
    },
    {
      "cell_type": "code",
      "source": [
        "import numpy as np\n"
      ],
      "metadata": {
        "id": "SYk3rVHFQdYX"
      },
      "execution_count": 1,
      "outputs": []
    },
    {
      "cell_type": "markdown",
      "source": [
        "1\n"
      ],
      "metadata": {
        "id": "6LnaAXokQxlP"
      }
    },
    {
      "cell_type": "code",
      "source": [
        "array_1 = np.arange(10)\n",
        "print(array_1)\n"
      ],
      "metadata": {
        "colab": {
          "base_uri": "https://localhost:8080/"
        },
        "id": "IUoQDhPTQjet",
        "outputId": "89ac22cb-b038-4e4c-927a-a2cd884920df"
      },
      "execution_count": 2,
      "outputs": [
        {
          "output_type": "stream",
          "name": "stdout",
          "text": [
            "[0 1 2 3 4 5 6 7 8 9]\n"
          ]
        }
      ]
    },
    {
      "cell_type": "markdown",
      "source": [
        "2"
      ],
      "metadata": {
        "id": "MzjSULBwQ3I6"
      }
    },
    {
      "cell_type": "code",
      "source": [
        "list_2 = [3.14, 2.17, 0, 1, 2]\n",
        "array_2 = np.array(list_2, dtype=int)\n",
        "print(array_2)\n"
      ],
      "metadata": {
        "colab": {
          "base_uri": "https://localhost:8080/"
        },
        "id": "5svUAQ8eQtax",
        "outputId": "72199d7f-c495-41d0-eac5-847253347923"
      },
      "execution_count": 3,
      "outputs": [
        {
          "output_type": "stream",
          "name": "stdout",
          "text": [
            "[3 2 0 1 2]\n"
          ]
        }
      ]
    },
    {
      "cell_type": "markdown",
      "source": [
        "3"
      ],
      "metadata": {
        "id": "zEe3zMUGREgL"
      }
    },
    {
      "cell_type": "code",
      "source": [
        "array_3 = np.arange(1, 10).reshape(3, 3)\n",
        "print(array_3)\n"
      ],
      "metadata": {
        "colab": {
          "base_uri": "https://localhost:8080/"
        },
        "id": "rbhHJ8I2RFV4",
        "outputId": "3ba43b1f-7774-40af-9b2a-d716385db597"
      },
      "execution_count": 4,
      "outputs": [
        {
          "output_type": "stream",
          "name": "stdout",
          "text": [
            "[[1 2 3]\n",
            " [4 5 6]\n",
            " [7 8 9]]\n"
          ]
        }
      ]
    },
    {
      "cell_type": "markdown",
      "source": [
        "4"
      ],
      "metadata": {
        "id": "pG0yJhlsRIzc"
      }
    },
    {
      "cell_type": "code",
      "source": [
        "array_4 = np.random.rand(4, 5)\n",
        "print(np.round(array_4, 2))  # Round for cleaner output\n"
      ],
      "metadata": {
        "colab": {
          "base_uri": "https://localhost:8080/"
        },
        "id": "OdFFzQ01RJlW",
        "outputId": "80e11dc0-b5ae-4277-908c-2ed6ab59ddb0"
      },
      "execution_count": 5,
      "outputs": [
        {
          "output_type": "stream",
          "name": "stdout",
          "text": [
            "[[0.02 0.96 0.44 0.73 0.1 ]\n",
            " [0.39 0.01 0.46 0.11 0.17]\n",
            " [0.1  0.26 0.81 0.04 0.21]\n",
            " [0.79 0.91 0.52 0.37 0.2 ]]\n"
          ]
        }
      ]
    },
    {
      "cell_type": "markdown",
      "source": [
        "5"
      ],
      "metadata": {
        "id": "h79YQrDpROMF"
      }
    },
    {
      "cell_type": "code",
      "source": [
        "array_5 = np.array([[21,22,23,22,22],\n",
        "                    [20,21,22,23,24],\n",
        "                    [21,22,23,22,22]])\n",
        "second_row = array_5[1]\n",
        "print(second_row)\n"
      ],
      "metadata": {
        "colab": {
          "base_uri": "https://localhost:8080/"
        },
        "id": "OOhwwEQaROyF",
        "outputId": "1d26ce03-7752-4356-f9c3-bf9ed7ec609c"
      },
      "execution_count": 6,
      "outputs": [
        {
          "output_type": "stream",
          "name": "stdout",
          "text": [
            "[20 21 22 23 24]\n"
          ]
        }
      ]
    },
    {
      "cell_type": "markdown",
      "source": [
        "6"
      ],
      "metadata": {
        "id": "4quPTNurRRlF"
      }
    },
    {
      "cell_type": "code",
      "source": [
        "array_6 = np.arange(10)\n",
        "reversed_array = array_6[::-1]\n",
        "print(reversed_array)\n"
      ],
      "metadata": {
        "colab": {
          "base_uri": "https://localhost:8080/"
        },
        "id": "_fQs0XXTRSj0",
        "outputId": "429f560d-de0e-4d23-915c-af8b7ba1488b"
      },
      "execution_count": 7,
      "outputs": [
        {
          "output_type": "stream",
          "name": "stdout",
          "text": [
            "[9 8 7 6 5 4 3 2 1 0]\n"
          ]
        }
      ]
    },
    {
      "cell_type": "markdown",
      "source": [
        "7"
      ],
      "metadata": {
        "id": "_0C1WzzZRVwr"
      }
    },
    {
      "cell_type": "code",
      "source": [
        "identity_matrix = np.eye(4)\n",
        "print(identity_matrix)\n"
      ],
      "metadata": {
        "colab": {
          "base_uri": "https://localhost:8080/"
        },
        "id": "0cpzxelFRXFa",
        "outputId": "e4019de6-a05b-413c-fa18-05ce35bf7a25"
      },
      "execution_count": 8,
      "outputs": [
        {
          "output_type": "stream",
          "name": "stdout",
          "text": [
            "[[1. 0. 0. 0.]\n",
            " [0. 1. 0. 0.]\n",
            " [0. 0. 1. 0.]\n",
            " [0. 0. 0. 1.]]\n"
          ]
        }
      ]
    },
    {
      "cell_type": "markdown",
      "source": [
        "8"
      ],
      "metadata": {
        "id": "E6CZ0_pGRbDG"
      }
    },
    {
      "cell_type": "code",
      "source": [
        "array_8 = np.arange(10)\n",
        "total_sum = np.sum(array_8)\n",
        "average = np.mean(array_8)\n",
        "print(\"Sum:\", total_sum)\n",
        "print(\"Average:\", average)\n"
      ],
      "metadata": {
        "colab": {
          "base_uri": "https://localhost:8080/"
        },
        "id": "6000ITf_RcIG",
        "outputId": "385de094-f701-432b-ebe2-13aa750ff37a"
      },
      "execution_count": 9,
      "outputs": [
        {
          "output_type": "stream",
          "name": "stdout",
          "text": [
            "Sum: 45\n",
            "Average: 4.5\n"
          ]
        }
      ]
    },
    {
      "cell_type": "markdown",
      "source": [
        "9"
      ],
      "metadata": {
        "id": "37DkbvJwRfW3"
      }
    },
    {
      "cell_type": "code",
      "source": [
        "array_9 = np.arange(1, 21).reshape(4, 5)\n",
        "print(array_9)\n"
      ],
      "metadata": {
        "colab": {
          "base_uri": "https://localhost:8080/"
        },
        "id": "iLXKxl8mRgPu",
        "outputId": "37bcd271-bc7a-4b4a-b88d-d3eab8d4efb5"
      },
      "execution_count": 10,
      "outputs": [
        {
          "output_type": "stream",
          "name": "stdout",
          "text": [
            "[[ 1  2  3  4  5]\n",
            " [ 6  7  8  9 10]\n",
            " [11 12 13 14 15]\n",
            " [16 17 18 19 20]]\n"
          ]
        }
      ]
    },
    {
      "cell_type": "markdown",
      "source": [
        "10"
      ],
      "metadata": {
        "id": "QvBfVpn9RjFe"
      }
    },
    {
      "cell_type": "code",
      "source": [
        "array_10 = np.arange(10)\n",
        "odd_numbers = array_10[array_10 % 2 == 1]\n",
        "print(odd_numbers)\n"
      ],
      "metadata": {
        "id": "DrqUs-bARkF9",
        "outputId": "f2ab78bc-0303-4b5d-c6b7-99b2a3805271",
        "colab": {
          "base_uri": "https://localhost:8080/"
        }
      },
      "execution_count": 11,
      "outputs": [
        {
          "output_type": "stream",
          "name": "stdout",
          "text": [
            "[1 3 5 7 9]\n"
          ]
        }
      ]
    }
  ]
}