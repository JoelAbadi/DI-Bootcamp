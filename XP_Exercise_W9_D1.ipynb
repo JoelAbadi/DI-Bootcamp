{
  "nbformat": 4,
  "nbformat_minor": 0,
  "metadata": {
    "colab": {
      "provenance": [],
      "authorship_tag": "ABX9TyOAGjrvI5gk3VMwLvxtokVm",
      "include_colab_link": true
    },
    "kernelspec": {
      "name": "python3",
      "display_name": "Python 3"
    },
    "language_info": {
      "name": "python"
    }
  },
  "cells": [
    {
      "cell_type": "markdown",
      "metadata": {
        "id": "view-in-github",
        "colab_type": "text"
      },
      "source": [
        "<a href=\"https://colab.research.google.com/github/JoelAbadi/DI-Bootcamp/blob/main/XP_Exercise_W9_D1.ipynb\" target=\"_parent\"><img src=\"https://colab.research.google.com/assets/colab-badge.svg\" alt=\"Open In Colab\"/></a>"
      ]
    },
    {
      "cell_type": "markdown",
      "source": [
        "Exercise 1: Calculating Required Sample Size"
      ],
      "metadata": {
        "id": "tpma64Cn9208"
      }
    },
    {
      "cell_type": "code",
      "execution_count": 1,
      "metadata": {
        "colab": {
          "base_uri": "https://localhost:8080/"
        },
        "id": "bytjHK819oqb",
        "outputId": "d2f329b5-8818-48e9-b54b-ca2e34051575"
      },
      "outputs": [
        {
          "output_type": "stream",
          "name": "stdout",
          "text": [
            "Sample size per group: 2941\n"
          ]
        }
      ],
      "source": [
        "from statsmodels.stats.power import NormalIndPower\n",
        "from statsmodels.stats.proportion import proportion_effectsize\n",
        "\n",
        "# Define baseline and lift proportions\n",
        "p_control = 0.20\n",
        "p_treatment = 0.23\n",
        "# Compute Cohen's h\n",
        "effect_size = proportion_effectsize(p_treatment, p_control)\n",
        "# Solve for sample size (per group) with 80% power, 5% alpha\n",
        "power_analysis = NormalIndPower()\n",
        "n_required = power_analysis.solve_power(\n",
        "    effect_size, power=0.8, alpha=0.05, ratio=1, alternative='two-sided'\n",
        ")\n",
        "print(f\"Sample size per group: {n_required:.0f}\")\n"
      ]
    },
    {
      "cell_type": "markdown",
      "source": [
        "Result: The calculation yields about 2,941 observations per group. In other words, for a tiny change (20%→23%) to be detected with 80% power at α=0.05, we need on the order of a few thousand users in each group. Smaller effects require large samples to achieve adequate power."
      ],
      "metadata": {
        "id": "psKdu7AH-ONv"
      }
    },
    {
      "cell_type": "markdown",
      "source": [
        "Exercise 2: Effect Size vs. Sample Size\n"
      ],
      "metadata": {
        "id": "TbTGDNRZ-Qj1"
      }
    },
    {
      "cell_type": "code",
      "source": [
        "p_control = 0.20\n",
        "effect_diffs = [0.2, 0.4, 0.5]\n",
        "power = 0.8\n",
        "n_required = {}\n",
        "for diff in effect_diffs:\n",
        "    p_treat = p_control + diff\n",
        "    h = proportion_effectsize(p_treat, p_control)\n",
        "    n = power_analysis.solve_power(h, power=power, alpha=0.05, ratio=1, alternative='two-sided')\n",
        "    n_required[diff] = n\n",
        "print(n_required)\n"
      ],
      "metadata": {
        "colab": {
          "base_uri": "https://localhost:8080/"
        },
        "id": "GucukDWV-ZFj",
        "outputId": "75ced926-2658-4800-b270-dbdc1ad503aa"
      },
      "execution_count": 2,
      "outputs": [
        {
          "output_type": "stream",
          "name": "stdout",
          "text": [
            "{0.2: 80.29911140865897, 0.4: 21.99217150421931, 0.5: 14.103175335713027}\n"
          ]
        }
      ]
    },
    {
      "cell_type": "markdown",
      "source": [
        "Exercise 3: Impact of Statistical Power"
      ],
      "metadata": {
        "id": "8htjHOnp-kQK"
      }
    },
    {
      "cell_type": "code",
      "source": [
        "p_control = 0.20\n",
        "effect_diff = 0.20\n",
        "p_treat = p_control + effect_diff\n",
        "h = proportion_effectsize(p_treat, p_control)\n",
        "sample_by_power = {}\n",
        "for target_power in [0.7, 0.8, 0.9]:\n",
        "    n = power_analysis.solve_power(h, power=target_power, alpha=0.05, ratio=1, alternative='two-sided')\n",
        "    sample_by_power[target_power] = n\n",
        "print(sample_by_power)\n"
      ],
      "metadata": {
        "colab": {
          "base_uri": "https://localhost:8080/"
        },
        "id": "D3M6FuhY-mFT",
        "outputId": "2bd869fb-9506-4bed-a745-10f82ceaa7d2"
      },
      "execution_count": 3,
      "outputs": [
        {
          "output_type": "stream",
          "name": "stdout",
          "text": [
            "{0.7: 63.14374267514918, 0.8: 80.29911140865897, 0.9: 107.4979511228676}\n"
          ]
        }
      ]
    },
    {
      "cell_type": "markdown",
      "source": [
        "Exercise 4: Sequential Testing"
      ],
      "metadata": {
        "id": "bHPPbiXD-uMF"
      }
    },
    {
      "cell_type": "code",
      "source": [
        "import numpy as np\n",
        "from scipy.stats import chi2_contingency\n",
        "\n",
        "# Simulated data collected over 3 weeks\n",
        "# Format: [week1, week2, week3] -> (successes_A, trials_A, successes_B, trials_B)\n",
        "weekly_data = [\n",
        "    (40, 200, 45, 200),\n",
        "    (85, 400, 95, 400),\n",
        "    (130, 600, 150, 600)  # Cumulative results at each stage\n",
        "]\n",
        "\n",
        "alpha = 0.05\n",
        "bonferroni_alpha = alpha / len(weekly_data)\n",
        "\n",
        "for i, (succ_A, total_A, succ_B, total_B) in enumerate(weekly_data, start=1):\n",
        "    fail_A = total_A - succ_A\n",
        "    fail_B = total_B - succ_B\n",
        "\n",
        "    contingency_table = [[succ_A, fail_A], [succ_B, fail_B]]\n",
        "    chi2, p_value, _, _ = chi2_contingency(contingency_table)\n",
        "\n",
        "    print(f\"Week {i}:\")\n",
        "    print(f\"  Success A: {succ_A}/{total_A}, Success B: {succ_B}/{total_B}\")\n",
        "    print(f\"  p-value = {p_value:.4f}\")\n",
        "\n",
        "    if p_value < bonferroni_alpha:\n",
        "        print(f\"  ✅ Stop early! Significant difference detected (p < {bonferroni_alpha:.4f})\")\n",
        "        break\n",
        "    else:\n",
        "        print(f\"  ⏩ Continue testing (p ≥ {bonferroni_alpha:.4f})\")\n"
      ],
      "metadata": {
        "colab": {
          "base_uri": "https://localhost:8080/"
        },
        "id": "hLjZy6pi-zfz",
        "outputId": "0965ba34-b0c7-41b6-d63f-b16082fa3239"
      },
      "execution_count": 4,
      "outputs": [
        {
          "output_type": "stream",
          "name": "stdout",
          "text": [
            "Week 1:\n",
            "  Success A: 40/200, Success B: 45/200\n",
            "  p-value = 0.6249\n",
            "  ⏩ Continue testing (p ≥ 0.0167)\n",
            "Week 2:\n",
            "  Success A: 85/400, Success B: 95/400\n",
            "  p-value = 0.4461\n",
            "  ⏩ Continue testing (p ≥ 0.0167)\n",
            "Week 3:\n",
            "  Success A: 130/600, Success B: 150/600\n",
            "  p-value = 0.1947\n",
            "  ⏩ Continue testing (p ≥ 0.0167)\n"
          ]
        }
      ]
    },
    {
      "cell_type": "markdown",
      "source": [
        "What Would I Do at Week 3 (if p = 0.02)\n",
        "If I observed p = 0.02 in week 3:\n",
        "\n",
        "With Bonferroni correction (threshold = 0.0167): I would NOT stop the test.\n",
        "\n",
        "With Pocock method (threshold ≈ 0.022): I COULD stop the test.\n",
        "\n"
      ],
      "metadata": {
        "id": "BpwZjGqx_cgH"
      }
    },
    {
      "cell_type": "markdown",
      "source": [
        "Exercise 5: Bayesian A/B Testing"
      ],
      "metadata": {
        "id": "poviHzFF_dn3"
      }
    },
    {
      "cell_type": "code",
      "source": [
        "from scipy.stats import beta\n",
        "# Example data:\n",
        "n = 100\n",
        "succ_control = 40\n",
        "succ_treat = 43\n",
        "# Prior parameters\n",
        "alpha_prior = beta_prior = 1  # Uniform prior\n",
        "# Posterior parameters\n",
        "post_ctrl = (alpha_prior + succ_control, beta_prior + (n - succ_control))\n",
        "post_treat = (alpha_prior + succ_treat, beta_prior + (n - succ_treat))\n",
        "# Estimate P(treatment > control)\n",
        "sims = 200000\n",
        "samp_ctrl = beta.rvs(*post_ctrl, size=sims)\n",
        "samp_treat = beta.rvs(*post_treat, size=sims)\n",
        "prob_treat_better = (samp_treat > samp_ctrl).mean()\n",
        "print(f\"Posterior P(treatment>control) ≈ {prob_treat_better:.2f}\")\n"
      ],
      "metadata": {
        "colab": {
          "base_uri": "https://localhost:8080/"
        },
        "id": "ARqVpOJT_1Ba",
        "outputId": "8b7a8ca2-485a-4e64-d564-cb406986e9b6"
      },
      "execution_count": 5,
      "outputs": [
        {
          "output_type": "stream",
          "name": "stdout",
          "text": [
            "Posterior P(treatment>control) ≈ 0.67\n"
          ]
        }
      ]
    },
    {
      "cell_type": "markdown",
      "source": [
        "Posterior decision: If our analysis yields a ~65% probability that the new feature is better, that suggests modest evidence in favor of the feature. Many practitioners require a high posterior probability (e.g. >90% or >95%) before “calling” a winner. At 65%, we might be cautious: the new feature is more likely better, but uncertainty remains. We could run the test longer to gain more confidence."
      ],
      "metadata": {
        "id": "bPzSkELa__cl"
      }
    },
    {
      "cell_type": "markdown",
      "source": [
        "Exercise 6: Implementing Adaptive Experimentation\n"
      ],
      "metadata": {
        "id": "0p2pCWAyACWm"
      }
    },
    {
      "cell_type": "markdown",
      "source": [
        "I am testing three website layouts (A, B, C) to increase user engagement.\n",
        "Initially, each layout gets 33% of the traffic.\n",
        "After the first week, Layout C shows higher engagement.\n",
        "You want to adapt traffic allocation based on performance.\n",
        "\n"
      ],
      "metadata": {
        "id": "TuvVAeqyAVcB"
      }
    },
    {
      "cell_type": "code",
      "source": [
        "import numpy as np\n",
        "import matplotlib.pyplot as plt\n",
        "\n",
        "# Define true conversion rates for each layout (unknown to the algorithm)\n",
        "true_rates = {\n",
        "    'A': 0.05,\n",
        "    'B': 0.06,\n",
        "    'C': 0.10  # Best performing layout\n",
        "}\n",
        "\n",
        "# Initialize alpha and beta priors (Beta distribution) for each layout\n",
        "layouts = ['A', 'B', 'C']\n",
        "priors = {layout: [1, 1] for layout in layouts}  # [alpha, beta]\n",
        "\n",
        "# Track total conversions and trials\n",
        "history = {layout: [] for layout in layouts}\n",
        "rounds = 5000\n",
        "\n",
        "for i in range(rounds):\n",
        "    sampled_probs = {\n",
        "        layout: np.random.beta(priors[layout][0], priors[layout][1])\n",
        "        for layout in layouts\n",
        "    }\n",
        "\n",
        "    # Select layout with highest sampled value (Thompson Sampling)\n",
        "    selected_layout = max(sampled_probs, key=sampled_probs.get)\n",
        "\n",
        "    # Simulate user interaction (success based on true conversion rate)\n",
        "    success = np.random.rand() < true_rates[selected_layout]\n",
        "\n",
        "    # Update priors based on result\n",
        "    priors[selected_layout][0] += success       # alpha += success\n",
        "    priors[selected_layout][1] += 1 - success   # beta += failure\n",
        "\n",
        "    # Save result to history\n",
        "    for layout in layouts:\n",
        "        total = priors[layout][0] + priors[layout][1] - 2  # remove initial prior\n",
        "        history[layout].append(total)\n",
        "\n",
        "# Plot traffic allocation over time\n",
        "plt.figure(figsize=(10, 5))\n",
        "for layout in layouts:\n",
        "    plt.plot(history[layout], label=f'Layout {layout}')\n",
        "plt.title('Traffic Allocation Over Time (Thompson Sampling)')\n",
        "plt.xlabel('Rounds')\n",
        "plt.ylabel('Cumulative Selections')\n",
        "plt.legend()\n",
        "plt.grid(True)\n",
        "plt.show()\n"
      ],
      "metadata": {
        "colab": {
          "base_uri": "https://localhost:8080/",
          "height": 487
        },
        "id": "WvuqKmHgAbTY",
        "outputId": "1e66108b-13aa-4ebf-fc79-de745ba33ea1"
      },
      "execution_count": 6,
      "outputs": [
        {
          "output_type": "display_data",
          "data": {
            "text/plain": [
              "<Figure size 1000x500 with 1 Axes>"
            ],
            "image/png": "[encoded data removed]"
          },
          "metadata": {}
        }
      ]
    },
    {
      "cell_type": "markdown",
      "source": [
        "Explanation of the Code\n",
        "\n",
        "True conversion rates: Pretend A=5%, B=6%, C=10%\n",
        "\n",
        "Thompson Sampling: We use Beta distributions to represent our uncertainty. At each round, we:\n",
        "\n",
        "*   Sample a probability from each layout's distribution\n",
        "*   Pick the layout with the highest sample\n",
        "*   Simulate whether the user converts\n",
        "*   Update the layout’s success/failure counts (posterior)\n",
        "\n",
        "\n",
        "\n"
      ],
      "metadata": {
        "id": "Q2bDxksJAkLg"
      }
    }
  ]
}