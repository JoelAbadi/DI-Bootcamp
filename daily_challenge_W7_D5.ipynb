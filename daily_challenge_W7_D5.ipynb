{
  "nbformat": 4,
  "nbformat_minor": 0,
  "metadata": {
    "colab": {
      "provenance": [],
      "authorship_tag": "ABX9TyMR1wRa2IHlrhnJP0ML+0So",
      "include_colab_link": true
    },
    "kernelspec": {
      "name": "python3",
      "display_name": "Python 3"
    },
    "language_info": {
      "name": "python"
    }
  },
  "cells": [
    {
      "cell_type": "markdown",
      "metadata": {
        "id": "view-in-github",
        "colab_type": "text"
      },
      "source": [
        "<a href=\"https://colab.research.google.com/github/JoelAbadi/DI-Bootcamp/blob/main/daily_challenge_W7_D5.ipynb\" target=\"_parent\"><img src=\"https://colab.research.google.com/assets/colab-badge.svg\" alt=\"Open In Colab\"/></a>"
      ]
    },
    {
      "cell_type": "markdown",
      "source": [
        "Step 1"
      ],
      "metadata": {
        "id": "mbCTeC32k0SM"
      }
    },
    {
      "cell_type": "code",
      "execution_count": 1,
      "metadata": {
        "colab": {
          "base_uri": "https://localhost:8080/"
        },
        "id": "PtJc7r9Xkl9O",
        "outputId": "3dfa3e40-7670-4e5e-c385-0cbe9f169183"
      },
      "outputs": [
        {
          "output_type": "stream",
          "name": "stdout",
          "text": [
            "200\n",
            "\n",
            "\n",
            "<!DOCTYPE html>\n",
            "<html\n",
            "  lang=\"en\"\n",
            "  \n",
            "  data-color-mode=\"auto\" data-light-theme=\"light\" data-dark-t\n"
          ]
        }
      ],
      "source": [
        "import requests\n",
        "\n",
        "\n",
        "response = requests.get(\"https://github.com/topics\")\n",
        "print(response.status_code)\n",
        "print(response.text[:100])\n"
      ]
    },
    {
      "cell_type": "code",
      "source": [
        "with open(\"webpage.html\", \"w\", encoding=\"utf-8\") as f:\n",
        "    f.write(response.text)\n"
      ],
      "metadata": {
        "id": "9N2T-A1ylUfI"
      },
      "execution_count": 2,
      "outputs": []
    },
    {
      "cell_type": "markdown",
      "source": [
        "Step 2"
      ],
      "metadata": {
        "id": "7UiGFhsGlW_z"
      }
    },
    {
      "cell_type": "code",
      "source": [
        "from bs4 import BeautifulSoup\n",
        "\n",
        "with open(\"webpage.html\", \"r\", encoding=\"utf-8\") as f:\n",
        "    html_content = f.read()\n",
        "\n",
        "soup = BeautifulSoup(html_content, \"html.parser\")\n"
      ],
      "metadata": {
        "id": "es2tkY7glYMu"
      },
      "execution_count": 3,
      "outputs": []
    },
    {
      "cell_type": "code",
      "source": [
        "title_tags = soup.find_all('p', class_='f3 lh-condensed mb-0 mt-1 Link--primary')\n",
        "desc_tags  = soup.find_all('p', class_='f5 color-fg-muted mb-0 mt-1')\n",
        "\n",
        "titles = [tag.text for tag in title_tags]\n",
        "descriptions = [tag.text.strip() for tag in desc_tags]\n"
      ],
      "metadata": {
        "id": "pRnuUpj_lkGl"
      },
      "execution_count": 4,
      "outputs": []
    },
    {
      "cell_type": "markdown",
      "source": [
        "Step 3"
      ],
      "metadata": {
        "id": "2txRemLsltXU"
      }
    },
    {
      "cell_type": "code",
      "source": [
        "print(len(titles), titles)\n",
        "print(len(descriptions), descriptions)\n"
      ],
      "metadata": {
        "colab": {
          "base_uri": "https://localhost:8080/"
        },
        "id": "x-GOGX14lumL",
        "outputId": "45b09c02-06f2-4d63-f4d8-2130d3be9a6d"
      },
      "execution_count": 5,
      "outputs": [
        {
          "output_type": "stream",
          "name": "stdout",
          "text": [
            "16 ['Awesome Lists', 'Chrome', 'Code quality', 'Compiler', 'CSS', 'Database', 'Front end', 'JavaScript', 'Node.js', 'npm', 'Project management', 'Python', 'React', 'React Native', 'Scala', 'TypeScript']\n",
            "16 ['An awesome list is a list of awesome things curated by the community.', 'Chrome is a web browser from the tech company Google.', 'Automate your code review with style, quality, security, and test‑coverage checks when you need them.', 'Compilers are software that translate higher-level programming languages to lower-level languages (e.g. machine code).', 'Cascading Style Sheets (CSS) is a language used most often to style and improve upon the appearance of views.', 'A database is a structured set of data held in a computer, usually a server.', 'Front end is the programming and layout that people see and interact with.', 'JavaScript (JS) is a lightweight interpreted programming language with first-class functions.', 'Node.js is a tool for executing JavaScript in a variety of environments.', 'npm is a package manager for JavaScript included with Node.js.', \"Project management is about building scope and executing on the project's goals.\", 'Python is a dynamically typed programming language.', 'React is an open source JavaScript library used for designing user interfaces.', 'React Native is a JavaScript mobile framework developed by Facebook.', 'Scala is an object-oriented programming language.', 'TypeScript is a typed superset of JavaScript that compiles to plain JavaScript.']\n"
          ]
        }
      ]
    },
    {
      "cell_type": "markdown",
      "source": [
        "Step 4"
      ],
      "metadata": {
        "id": "po00SsP8l7tP"
      }
    },
    {
      "cell_type": "code",
      "source": [
        "import pandas as pd\n",
        "\n",
        "data = {\n",
        "    \"title\": titles,\n",
        "    \"description\": descriptions\n",
        "}\n",
        "\n",
        "df = pd.DataFrame(data)\n",
        "print(df)\n"
      ],
      "metadata": {
        "colab": {
          "base_uri": "https://localhost:8080/"
        },
        "id": "W53lHPLpl9WQ",
        "outputId": "f2771a54-7726-43ec-eb07-624c1d4b849a"
      },
      "execution_count": 6,
      "outputs": [
        {
          "output_type": "stream",
          "name": "stdout",
          "text": [
            "                 title                                        description\n",
            "0        Awesome Lists  An awesome list is a list of awesome things cu...\n",
            "1               Chrome  Chrome is a web browser from the tech company ...\n",
            "2         Code quality  Automate your code review with style, quality,...\n",
            "3             Compiler  Compilers are software that translate higher-l...\n",
            "4                  CSS  Cascading Style Sheets (CSS) is a language use...\n",
            "5             Database  A database is a structured set of data held in...\n",
            "6            Front end  Front end is the programming and layout that p...\n",
            "7           JavaScript  JavaScript (JS) is a lightweight interpreted p...\n",
            "8              Node.js  Node.js is a tool for executing JavaScript in ...\n",
            "9                  npm  npm is a package manager for JavaScript includ...\n",
            "10  Project management  Project management is about building scope and...\n",
            "11              Python  Python is a dynamically typed programming lang...\n",
            "12               React  React is an open source JavaScript library use...\n",
            "13        React Native  React Native is a JavaScript mobile framework ...\n",
            "14               Scala  Scala is an object-oriented programming language.\n",
            "15          TypeScript  TypeScript is a typed superset of JavaScript t...\n"
          ]
        }
      ]
    }
  ]
}